{
 "cells": [
  {
   "cell_type": "code",
   "execution_count": 3,
   "metadata": {},
   "outputs": [],
   "source": [
    "import pandas as pd\n",
    "import numpy as np\n",
    "import glob, os\n",
    "\n",
    "# Get CSV files list from a folder\n",
    "path = 'data/sales_data'\n",
    "csv_files = glob.glob(path + \"/*.csv\")\n",
    "\n",
    "# Read each CSV file into DataFrame\n",
    "# This creates a list of dataframes\n",
    "df_list = (pd.read_csv(file) for file in csv_files)\n",
    "\n",
    "# Concatenate all DataFrames\n",
    "df   = pd.concat(df_list, ignore_index=True)\n"
   ]
  },
  {
   "cell_type": "code",
   "execution_count": 4,
   "metadata": {},
   "outputs": [
    {
     "data": {
      "text/plain": [
       "Description                    19.931173\n",
       "Transaction Date               19.931173\n",
       "Transaction Time               19.931173\n",
       "Tax Type                       99.311729\n",
       "Transaction Type               19.931173\n",
       "Refund Type                    98.795526\n",
       "Product Title                   0.000000\n",
       "Product id                     19.931173\n",
       "Product Type                    0.000000\n",
       "Sku Id                         22.311443\n",
       "Hardware                       19.931173\n",
       "Buyer Country                  19.931173\n",
       "Buyer State                    27.731574\n",
       "Buyer Postal Code              20.160597\n",
       "Buyer Currency                 19.931173\n",
       "Amount (Buyer Currency)        19.931173\n",
       "Currency Conversion Rate       19.931173\n",
       "Merchant Currency              19.931173\n",
       "Amount (Merchant Currency)     19.931173\n",
       "Base Plan ID                  100.000000\n",
       "Offer ID                      100.000000\n",
       "Order Number                   80.068827\n",
       "Order Charged Date             80.068827\n",
       "Order Charged Timestamp        80.068827\n",
       "Financial Status               80.068827\n",
       "Device Model                   80.068827\n",
       "Product ID                     80.068827\n",
       "SKU ID                         80.326929\n",
       "Currency of Sale               80.068827\n",
       "Item Price                     80.068827\n",
       "Taxes Collected                80.068827\n",
       "Charged Amount                 80.068827\n",
       "City of Buyer                  83.969028\n",
       "State of Buyer                 84.227129\n",
       "Postal Code of Buyer           83.710926\n",
       "Country of Buyer               80.068827\n",
       "dtype: float64"
      ]
     },
     "execution_count": 4,
     "metadata": {},
     "output_type": "execute_result"
    }
   ],
   "source": [
    "df.isna().sum()/len(df)*100\n",
    "\n"
   ]
  },
  {
   "cell_type": "code",
   "execution_count": null,
   "metadata": {},
   "outputs": [],
   "source": []
  }
 ],
 "metadata": {
  "kernelspec": {
   "display_name": "base",
   "language": "python",
   "name": "python3"
  },
  "language_info": {
   "codemirror_mode": {
    "name": "ipython",
    "version": 3
   },
   "file_extension": ".py",
   "mimetype": "text/x-python",
   "name": "python",
   "nbconvert_exporter": "python",
   "pygments_lexer": "ipython3",
   "version": "3.9.13"
  },
  "orig_nbformat": 4,
  "vscode": {
   "interpreter": {
    "hash": "0bced20fae4d54435dcf3b0c3c80be0ec35c008c9332be46e0007333a2439b6f"
   }
  }
 },
 "nbformat": 4,
 "nbformat_minor": 2
}
