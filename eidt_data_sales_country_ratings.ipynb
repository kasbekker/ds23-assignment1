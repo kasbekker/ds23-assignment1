{
 "cells": [
  {
   "cell_type": "code",
   "execution_count": 389,
   "metadata": {},
   "outputs": [],
   "source": [
    "\"\"\"Bokeh Visualization Template\n",
    "\n",
    "This template is a general outline for turning your data into a \n",
    "visualization using Bokeh.\n",
    "\"\"\"\n",
    "# Data handling\n",
    "import pandas as pd\n",
    "import numpy as np\n",
    "import pandas as pd\n",
    "import numpy as np\n",
    "import glob, os\n",
    "from datetime import date\n",
    "import datetime\n",
    "\n",
    "\n",
    "# Bokeh libraries\n",
    "from bokeh.io import output_file, output_notebook\n",
    "from bokeh.plotting import figure, show\n",
    "from bokeh.layouts import row, column, gridplot\n",
    "from bokeh.models.widgets import Tabs, Panel\n",
    "from bokeh.io import output_file\n",
    "# Bokeh Libraries\n",
    "from bokeh.models import ColumnDataSource, CategoricalColorMapper, Div, RangeTool, Range1d, CustomJS, DateRangeSlider\n",
    "from bokeh.sampledata.stocks import AAPL\n",
    "from bokeh.plotting import figure\n",
    "from bokeh.resources import CDN\n",
    "from bokeh.embed import file_html\n"
   ]
  },
  {
   "cell_type": "code",
   "execution_count": 390,
   "metadata": {},
   "outputs": [],
   "source": [
    "import pandas as pd\n",
    "import numpy as np\n",
    "import glob, os\n",
    "\n",
    "# Get CSV files list from a folder\n",
    "path = 'data/sales_data'\n",
    "csv_files = glob.glob(path + \"/*.csv\")\n",
    "\n",
    "# Read each CSV file into DataFrame\n",
    "# This creates a list of dataframes\n",
    "df_list = (pd.read_csv(file) for file in csv_files)\n",
    "\n",
    "# Concatenate all DataFrames\n",
    "df   = pd.concat(df_list, ignore_index=True)\n",
    "\n",
    "\n",
    "\n",
    "#Bovenstaande code selecteert een map in path, en zet alle csv bestanden in een dataframe genaamd df, https://sparkbyexamples.com/pandas/pandas-read-multiple-csv-files/"
   ]
  },
  {
   "cell_type": "code",
   "execution_count": 391,
   "metadata": {},
   "outputs": [],
   "source": [
    "df = df[[\"Transaction Date\", \"Transaction Type\", \"Product id\", \"Sku Id\", \"Buyer Country\", \"Buyer Postal Code\", \"Amount (Merchant Currency)\"]]\n",
    "#selecteert de rijen die van belang zijn (zie opdracht document)\n",
    "\n",
    "\n",
    "df = df.loc[(df['Transaction Type'] == 'Charge') & (df['Product id'] == 'com.vansteinengroentjes.apps.ddfive')]\n",
    "#selecteert specfieke rijen met de waarden die overeenkomen hier boven (zie opdracht document)\n",
    "\n"
   ]
  },
  {
   "cell_type": "code",
   "execution_count": 392,
   "metadata": {},
   "outputs": [
    {
     "data": {
      "text/plain": [
       "Transaction Date              0.000000\n",
       "Transaction Type              0.000000\n",
       "Product id                    0.000000\n",
       "Sku Id                        0.000000\n",
       "Buyer Country                 0.000000\n",
       "Buyer Postal Code             0.323625\n",
       "Amount (Merchant Currency)    0.000000\n",
       "dtype: float64"
      ]
     },
     "execution_count": 392,
     "metadata": {},
     "output_type": "execute_result"
    }
   ],
   "source": [
    "df = df.dropna()\n",
    "\n",
    "#dropt alle rijen waar NaN in voorkomt, https://pandas.pydata.org/docs/reference/api/pandas.DataFrame.dropna.html\n"
   ]
  },
  {
   "cell_type": "code",
   "execution_count": 393,
   "metadata": {},
   "outputs": [],
   "source": [
    "df['Transaction Date'] = pd.to_datetime(df['Transaction Date'])\n",
    "df_sales =df\n",
    "#vertaalt de transaction date naar leesbaar data voor pandas dataframe.\n",
    "\n"
   ]
  },
  {
   "cell_type": "code",
   "execution_count": 394,
   "metadata": {},
   "outputs": [
    {
     "data": {
      "text/plain": [
       "Transaction Date              0.0\n",
       "Transaction Type              0.0\n",
       "Product id                    0.0\n",
       "Sku Id                        0.0\n",
       "Buyer Country                 0.0\n",
       "Buyer Postal Code             0.0\n",
       "Amount (Merchant Currency)    0.0\n",
       "dtype: float64"
      ]
     },
     "execution_count": 394,
     "metadata": {},
     "output_type": "execute_result"
    }
   ],
   "source": [
    "# Determine where the visualization will be rendered\n",
    "# output_file('filename.html')  # Render to static HTML, or \n",
    "output_notebook()  # Render inline in a Jupyter Notebook\n",
    "\n",
    "#selecteert de rijen transaction date en amount\n",
    "date_amount_data = df_sales[[\"Buyer Country\", \"Amount (Merchant Currency)\"]]\n",
    "# amount_data = df_sales[\"Amount (Merchant Currency)\"]\n",
    "\n",
    "dates = np.array(AAPL['date'], dtype=np.datetime64)\n",
    "#maakt cds bestanden voor sales per dag\n",
    "date_data_cds = ColumnDataSource(date_amount_data.groupby('Buyer Country')['Amount (Merchant Currency)'].sum().to_frame().reset_index())\n",
    "\n",
    "# amount_data_cds = ColumnDataSource(amount_data)\n",
    "\n"
   ]
  },
  {
   "cell_type": "code",
   "execution_count": 395,
   "metadata": {},
   "outputs": [],
   "source": [
    "\n"
   ]
  },
  {
   "cell_type": "code",
   "execution_count": null,
   "metadata": {},
   "outputs": [],
   "source": []
  },
  {
   "cell_type": "code",
   "execution_count": 396,
   "metadata": {},
   "outputs": [
    {
     "data": {
      "text/html": [
       "<div class=\"bk-root\">\n",
       "        <a href=\"https://bokeh.org\" target=\"_blank\" class=\"bk-logo bk-logo-small bk-logo-notebook\"></a>\n",
       "        <span id=\"26801\">Loading BokehJS ...</span>\n",
       "    </div>\n"
      ]
     },
     "metadata": {},
     "output_type": "display_data"
    },
    {
     "data": {
      "application/javascript": "(function(root) {\n  function now() {\n    return new Date();\n  }\n\n  const force = true;\n\n  if (typeof root._bokeh_onload_callbacks === \"undefined\" || force === true) {\n    root._bokeh_onload_callbacks = [];\n    root._bokeh_is_loading = undefined;\n  }\n\nconst JS_MIME_TYPE = 'application/javascript';\n  const HTML_MIME_TYPE = 'text/html';\n  const EXEC_MIME_TYPE = 'application/vnd.bokehjs_exec.v0+json';\n  const CLASS_NAME = 'output_bokeh rendered_html';\n\n  /**\n   * Render data to the DOM node\n   */\n  function render(props, node) {\n    const script = document.createElement(\"script\");\n    node.appendChild(script);\n  }\n\n  /**\n   * Handle when an output is cleared or removed\n   */\n  function handleClearOutput(event, handle) {\n    const cell = handle.cell;\n\n    const id = cell.output_area._bokeh_element_id;\n    const server_id = cell.output_area._bokeh_server_id;\n    // Clean up Bokeh references\n    if (id != null && id in Bokeh.index) {\n      Bokeh.index[id].model.document.clear();\n      delete Bokeh.index[id];\n    }\n\n    if (server_id !== undefined) {\n      // Clean up Bokeh references\n      const cmd_clean = \"from bokeh.io.state import curstate; print(curstate().uuid_to_server['\" + server_id + \"'].get_sessions()[0].document.roots[0]._id)\";\n      cell.notebook.kernel.execute(cmd_clean, {\n        iopub: {\n          output: function(msg) {\n            const id = msg.content.text.trim();\n            if (id in Bokeh.index) {\n              Bokeh.index[id].model.document.clear();\n              delete Bokeh.index[id];\n            }\n          }\n        }\n      });\n      // Destroy server and session\n      const cmd_destroy = \"import bokeh.io.notebook as ion; ion.destroy_server('\" + server_id + \"')\";\n      cell.notebook.kernel.execute(cmd_destroy);\n    }\n  }\n\n  /**\n   * Handle when a new output is added\n   */\n  function handleAddOutput(event, handle) {\n    const output_area = handle.output_area;\n    const output = handle.output;\n\n    // limit handleAddOutput to display_data with EXEC_MIME_TYPE content only\n    if ((output.output_type != \"display_data\") || (!Object.prototype.hasOwnProperty.call(output.data, EXEC_MIME_TYPE))) {\n      return\n    }\n\n    const toinsert = output_area.element.find(\".\" + CLASS_NAME.split(' ')[0]);\n\n    if (output.metadata[EXEC_MIME_TYPE][\"id\"] !== undefined) {\n      toinsert[toinsert.length - 1].firstChild.textContent = output.data[JS_MIME_TYPE];\n      // store reference to embed id on output_area\n      output_area._bokeh_element_id = output.metadata[EXEC_MIME_TYPE][\"id\"];\n    }\n    if (output.metadata[EXEC_MIME_TYPE][\"server_id\"] !== undefined) {\n      const bk_div = document.createElement(\"div\");\n      bk_div.innerHTML = output.data[HTML_MIME_TYPE];\n      const script_attrs = bk_div.children[0].attributes;\n      for (let i = 0; i < script_attrs.length; i++) {\n        toinsert[toinsert.length - 1].firstChild.setAttribute(script_attrs[i].name, script_attrs[i].value);\n        toinsert[toinsert.length - 1].firstChild.textContent = bk_div.children[0].textContent\n      }\n      // store reference to server id on output_area\n      output_area._bokeh_server_id = output.metadata[EXEC_MIME_TYPE][\"server_id\"];\n    }\n  }\n\n  function register_renderer(events, OutputArea) {\n\n    function append_mime(data, metadata, element) {\n      // create a DOM node to render to\n      const toinsert = this.create_output_subarea(\n        metadata,\n        CLASS_NAME,\n        EXEC_MIME_TYPE\n      );\n      this.keyboard_manager.register_events(toinsert);\n      // Render to node\n      const props = {data: data, metadata: metadata[EXEC_MIME_TYPE]};\n      render(props, toinsert[toinsert.length - 1]);\n      element.append(toinsert);\n      return toinsert\n    }\n\n    /* Handle when an output is cleared or removed */\n    events.on('clear_output.CodeCell', handleClearOutput);\n    events.on('delete.Cell', handleClearOutput);\n\n    /* Handle when a new output is added */\n    events.on('output_added.OutputArea', handleAddOutput);\n\n    /**\n     * Register the mime type and append_mime function with output_area\n     */\n    OutputArea.prototype.register_mime_type(EXEC_MIME_TYPE, append_mime, {\n      /* Is output safe? */\n      safe: true,\n      /* Index of renderer in `output_area.display_order` */\n      index: 0\n    });\n  }\n\n  // register the mime type if in Jupyter Notebook environment and previously unregistered\n  if (root.Jupyter !== undefined) {\n    const events = require('base/js/events');\n    const OutputArea = require('notebook/js/outputarea').OutputArea;\n\n    if (OutputArea.prototype.mime_types().indexOf(EXEC_MIME_TYPE) == -1) {\n      register_renderer(events, OutputArea);\n    }\n  }\n  if (typeof (root._bokeh_timeout) === \"undefined\" || force === true) {\n    root._bokeh_timeout = Date.now() + 5000;\n    root._bokeh_failed_load = false;\n  }\n\n  const NB_LOAD_WARNING = {'data': {'text/html':\n     \"<div style='background-color: #fdd'>\\n\"+\n     \"<p>\\n\"+\n     \"BokehJS does not appear to have successfully loaded. If loading BokehJS from CDN, this \\n\"+\n     \"may be due to a slow or bad network connection. Possible fixes:\\n\"+\n     \"</p>\\n\"+\n     \"<ul>\\n\"+\n     \"<li>re-rerun `output_notebook()` to attempt to load from CDN again, or</li>\\n\"+\n     \"<li>use INLINE resources instead, as so:</li>\\n\"+\n     \"</ul>\\n\"+\n     \"<code>\\n\"+\n     \"from bokeh.resources import INLINE\\n\"+\n     \"output_notebook(resources=INLINE)\\n\"+\n     \"</code>\\n\"+\n     \"</div>\"}};\n\n  function display_loaded() {\n    const el = document.getElementById(\"26801\");\n    if (el != null) {\n      el.textContent = \"BokehJS is loading...\";\n    }\n    if (root.Bokeh !== undefined) {\n      if (el != null) {\n        el.textContent = \"BokehJS \" + root.Bokeh.version + \" successfully loaded.\";\n      }\n    } else if (Date.now() < root._bokeh_timeout) {\n      setTimeout(display_loaded, 100)\n    }\n  }\n\n  function run_callbacks() {\n    try {\n      root._bokeh_onload_callbacks.forEach(function(callback) {\n        if (callback != null)\n          callback();\n      });\n    } finally {\n      delete root._bokeh_onload_callbacks\n    }\n    console.debug(\"Bokeh: all callbacks have finished\");\n  }\n\n  function load_libs(css_urls, js_urls, callback) {\n    if (css_urls == null) css_urls = [];\n    if (js_urls == null) js_urls = [];\n\n    root._bokeh_onload_callbacks.push(callback);\n    if (root._bokeh_is_loading > 0) {\n      console.debug(\"Bokeh: BokehJS is being loaded, scheduling callback at\", now());\n      return null;\n    }\n    if (js_urls == null || js_urls.length === 0) {\n      run_callbacks();\n      return null;\n    }\n    console.debug(\"Bokeh: BokehJS not loaded, scheduling load and callback at\", now());\n    root._bokeh_is_loading = css_urls.length + js_urls.length;\n\n    function on_load() {\n      root._bokeh_is_loading--;\n      if (root._bokeh_is_loading === 0) {\n        console.debug(\"Bokeh: all BokehJS libraries/stylesheets loaded\");\n        run_callbacks()\n      }\n    }\n\n    function on_error(url) {\n      console.error(\"failed to load \" + url);\n    }\n\n    for (let i = 0; i < css_urls.length; i++) {\n      const url = css_urls[i];\n      const element = document.createElement(\"link\");\n      element.onload = on_load;\n      element.onerror = on_error.bind(null, url);\n      element.rel = \"stylesheet\";\n      element.type = \"text/css\";\n      element.href = url;\n      console.debug(\"Bokeh: injecting link tag for BokehJS stylesheet: \", url);\n      document.body.appendChild(element);\n    }\n\n    for (let i = 0; i < js_urls.length; i++) {\n      const url = js_urls[i];\n      const element = document.createElement('script');\n      element.onload = on_load;\n      element.onerror = on_error.bind(null, url);\n      element.async = false;\n      element.src = url;\n      console.debug(\"Bokeh: injecting script tag for BokehJS library: \", url);\n      document.head.appendChild(element);\n    }\n  };\n\n  function inject_raw_css(css) {\n    const element = document.createElement(\"style\");\n    element.appendChild(document.createTextNode(css));\n    document.body.appendChild(element);\n  }\n\n  const js_urls = [\"https://cdn.bokeh.org/bokeh/release/bokeh-2.4.3.min.js\", \"https://cdn.bokeh.org/bokeh/release/bokeh-gl-2.4.3.min.js\", \"https://cdn.bokeh.org/bokeh/release/bokeh-widgets-2.4.3.min.js\", \"https://cdn.bokeh.org/bokeh/release/bokeh-tables-2.4.3.min.js\", \"https://cdn.bokeh.org/bokeh/release/bokeh-mathjax-2.4.3.min.js\"];\n  const css_urls = [];\n\n  const inline_js = [    function(Bokeh) {\n      Bokeh.set_log_level(\"info\");\n    },\nfunction(Bokeh) {\n    }\n  ];\n\n  function run_inline_js() {\n    if (root.Bokeh !== undefined || force === true) {\n          for (let i = 0; i < inline_js.length; i++) {\n      inline_js[i].call(root, root.Bokeh);\n    }\nif (force === true) {\n        display_loaded();\n      }} else if (Date.now() < root._bokeh_timeout) {\n      setTimeout(run_inline_js, 100);\n    } else if (!root._bokeh_failed_load) {\n      console.log(\"Bokeh: BokehJS failed to load within specified timeout.\");\n      root._bokeh_failed_load = true;\n    } else if (force !== true) {\n      const cell = $(document.getElementById(\"26801\")).parents('.cell').data().cell;\n      cell.output_area.append_execute_result(NB_LOAD_WARNING)\n    }\n  }\n\n  if (root._bokeh_is_loading === 0) {\n    console.debug(\"Bokeh: BokehJS loaded, going straight to plotting\");\n    run_inline_js();\n  } else {\n    load_libs(css_urls, js_urls, function() {\n      console.debug(\"Bokeh: BokehJS plotting callback run at\", now());\n      run_inline_js();\n    });\n  }\n}(window));",
      "application/vnd.bokehjs_load.v0+json": ""
     },
     "metadata": {},
     "output_type": "display_data"
    }
   ],
   "source": [
    "\n",
    "\n"
   ]
  },
  {
   "cell_type": "code",
   "execution_count": 397,
   "metadata": {},
   "outputs": [
    {
     "data": {
      "text/html": [
       "\n",
       "  <div class=\"bk-root\" id=\"45ecd7c0-a660-4a78-b05b-ed80bb4fdc12\" data-root-id=\"26804\"></div>\n"
      ]
     },
     "metadata": {},
     "output_type": "display_data"
    },
    {
     "data": {
      "application/javascript": "(function(root) {\n  function embed_document(root) {\n  const docs_json = {\"c52aa09b-6e1f-4674-ab4f-51afe9ad8d47\":{\"defs\":[],\"roots\":{\"references\":[{\"attributes\":{\"below\":[{\"id\":\"26815\"}],\"center\":[{\"id\":\"26818\"},{\"id\":\"26822\"}],\"height\":800,\"left\":[{\"id\":\"26819\"}],\"renderers\":[{\"id\":\"26834\"}],\"title\":{\"id\":\"26805\"},\"toolbar\":{\"id\":\"26826\"},\"toolbar_location\":null,\"width\":1500,\"x_range\":{\"id\":\"26807\"},\"x_scale\":{\"id\":\"26811\"},\"y_range\":{\"id\":\"26809\"},\"y_scale\":{\"id\":\"26813\"}},\"id\":\"26804\",\"subtype\":\"Figure\",\"type\":\"Plot\"},{\"attributes\":{},\"id\":\"27821\",\"type\":\"Selection\"},{\"attributes\":{\"days\":[1,8,15,22]},\"id\":\"27827\",\"type\":\"DaysTicker\"},{\"attributes\":{\"axis_label\":\"Amount\",\"coordinates\":null,\"formatter\":{\"id\":\"27815\"},\"group\":null,\"major_label_policy\":{\"id\":\"27816\"},\"ticker\":{\"id\":\"26820\"}},\"id\":\"26819\",\"type\":\"LinearAxis\"},{\"attributes\":{\"days\":[1,2,3,4,5,6,7,8,9,10,11,12,13,14,15,16,17,18,19,20,21,22,23,24,25,26,27,28,29,30,31]},\"id\":\"27825\",\"type\":\"DaysTicker\"},{\"attributes\":{\"dimensions\":\"width\"},\"id\":\"26823\",\"type\":\"PanTool\"},{\"attributes\":{\"months\":[0,6]},\"id\":\"27832\",\"type\":\"MonthsTicker\"},{\"attributes\":{},\"id\":\"26811\",\"type\":\"LinearScale\"},{\"attributes\":{},\"id\":\"26820\",\"type\":\"BasicTicker\"},{\"attributes\":{\"base\":60,\"mantissas\":[1,2,5,10,15,20,30],\"max_interval\":1800000.0,\"min_interval\":1000.0,\"num_minor_ticks\":0},\"id\":\"27823\",\"type\":\"AdaptiveTicker\"},{\"attributes\":{\"months\":[0,4,8]},\"id\":\"27831\",\"type\":\"MonthsTicker\"},{\"attributes\":{},\"id\":\"26807\",\"type\":\"DataRange1d\"},{\"attributes\":{},\"id\":\"27816\",\"type\":\"AllLabels\"},{\"attributes\":{\"fill_alpha\":{\"value\":0.1},\"fill_color\":{\"value\":\"#1f77b4\"},\"hatch_alpha\":{\"value\":0.1},\"line_alpha\":{\"value\":0.1},\"line_color\":{\"value\":\"#1f77b4\"},\"top\":{\"field\":\"Amount (Merchant Currency)\"},\"width\":{\"value\":20},\"x\":{\"field\":\"Transaction Date\"}},\"id\":\"26832\",\"type\":\"VBar\"},{\"attributes\":{\"fill_alpha\":{\"value\":0.2},\"fill_color\":{\"value\":\"#1f77b4\"},\"hatch_alpha\":{\"value\":0.2},\"line_alpha\":{\"value\":0.2},\"line_color\":{\"value\":\"#1f77b4\"},\"top\":{\"field\":\"Amount (Merchant Currency)\"},\"width\":{\"value\":20},\"x\":{\"field\":\"Transaction Date\"}},\"id\":\"26833\",\"type\":\"VBar\"},{\"attributes\":{},\"id\":\"27815\",\"type\":\"BasicTickFormatter\"},{\"attributes\":{\"base\":24,\"mantissas\":[1,2,4,6,8,12],\"max_interval\":43200000.0,\"min_interval\":3600000.0,\"num_minor_ticks\":0},\"id\":\"27824\",\"type\":\"AdaptiveTicker\"},{\"attributes\":{\"mantissas\":[1,2,5],\"max_interval\":500.0,\"num_minor_ticks\":0},\"id\":\"27822\",\"type\":\"AdaptiveTicker\"},{\"attributes\":{\"fill_color\":{\"value\":\"#1f77b4\"},\"line_color\":{\"value\":\"#1f77b4\"},\"top\":{\"field\":\"Amount (Merchant Currency)\"},\"width\":{\"value\":20},\"x\":{\"field\":\"Transaction Date\"}},\"id\":\"26831\",\"type\":\"VBar\"},{\"attributes\":{},\"id\":\"27819\",\"type\":\"AllLabels\"},{\"attributes\":{},\"id\":\"26824\",\"type\":\"ResetTool\"},{\"attributes\":{},\"id\":\"27820\",\"type\":\"UnionRenderers\"},{\"attributes\":{\"days\":[1,15]},\"id\":\"27828\",\"type\":\"DaysTicker\"},{\"attributes\":{\"days\":[1,4,7,10,13,16,19,22,25,28]},\"id\":\"27826\",\"type\":\"DaysTicker\"},{\"attributes\":{\"num_minor_ticks\":5,\"tickers\":[{\"id\":\"27822\"},{\"id\":\"27823\"},{\"id\":\"27824\"},{\"id\":\"27825\"},{\"id\":\"27826\"},{\"id\":\"27827\"},{\"id\":\"27828\"},{\"id\":\"27829\"},{\"id\":\"27830\"},{\"id\":\"27831\"},{\"id\":\"27832\"},{\"id\":\"27833\"}]},\"id\":\"26816\",\"type\":\"DatetimeTicker\"},{\"attributes\":{\"months\":[0,2,4,6,8,10]},\"id\":\"27830\",\"type\":\"MonthsTicker\"},{\"attributes\":{\"tools\":[{\"id\":\"26823\"},{\"id\":\"26824\"},{\"id\":\"26825\"}]},\"id\":\"26826\",\"type\":\"Toolbar\"},{\"attributes\":{\"coordinates\":null,\"data_source\":{\"id\":\"26802\"},\"glyph\":{\"id\":\"26831\"},\"group\":null,\"hover_glyph\":null,\"muted_glyph\":{\"id\":\"26833\"},\"nonselection_glyph\":{\"id\":\"26832\"},\"view\":{\"id\":\"26835\"}},\"id\":\"26834\",\"type\":\"GlyphRenderer\"},{\"attributes\":{\"coordinates\":null,\"group\":null,\"text\":\"Amount vs Date\"},\"id\":\"26805\",\"type\":\"Title\"},{\"attributes\":{\"axis\":{\"id\":\"26819\"},\"coordinates\":null,\"dimension\":1,\"group\":null,\"ticker\":null},\"id\":\"26822\",\"type\":\"Grid\"},{\"attributes\":{\"axis\":{\"id\":\"26815\"},\"coordinates\":null,\"group\":null,\"ticker\":null},\"id\":\"26818\",\"type\":\"Grid\"},{\"attributes\":{\"source\":{\"id\":\"26802\"}},\"id\":\"26835\",\"type\":\"CDSView\"},{\"attributes\":{},\"id\":\"27818\",\"type\":\"DatetimeTickFormatter\"},{\"attributes\":{},\"id\":\"26813\",\"type\":\"LinearScale\"},{\"attributes\":{\"axis_label\":\"Date\",\"coordinates\":null,\"formatter\":{\"id\":\"27818\"},\"group\":null,\"major_label_policy\":{\"id\":\"27819\"},\"ticker\":{\"id\":\"26816\"}},\"id\":\"26815\",\"type\":\"DatetimeAxis\"},{\"attributes\":{\"data\":{\"Amount (Merchant Currency)\":{\"__ndarray__\":\"ZmZmZmZmHUBSuB6F6zFBQHsUrkfhOjZAZmZmZmbmN0AK16NwPQoiQIXrUbgeZUhAhetRuB7lSkAK16NwPYolQAAAAAAAgC1A9ihcj8L1BkDhehSuRwFCQHsUrkfhejxAFa5H4Xq0RUCuR+F6FO4yQNejcD0KVzpA16NwPQrXPUAfhetRuJ42QDMzMzMzszZAH4XrUbgeQUAUrkfhepRBQIXrUbgexTNArkfhehSuRUBmZmZmZqY/QOF6FK5HwUlAMzMzMzNzOkCPwvUoXI82QK5H4XoUrjlA4XoUrkcBSEDNzMzMzEwoQOF6FK5HQUlAhetRuB4lREBI4XoUrudAQFyPwvUo3ERACtejcD2KQUDsUbgehQtAQArXo3A9SjRAmpmZmZnZOkBcj8L1KJw/QFyPwvUoXC9AexSuR+G6U0Bcj8L1KExRQEjhehSuxztAcT0K16OwRUA+CtejcP00QKRwPQrXA0lAMzMzMzOzNEDNzMzMzExCQHsUrkfhmkZAcT0K16OQQECkcD0K16MoQOxRuB6F6ztAuB6F61H4NkD2KFyPwnVBQLgehetR+EZAAAAAAACAOUBxPQrXo3ApQIXrUbgeZUJAZmZmZmZmO0ApXI/C9ag8QBSuR+F6NEpAPgrXo3A9RUA9CtejcH1AQBSuR+F6NEFArkfhehRuOUDrUbgehatAQIXrUbgehSNAUrgehetRP0BmZmZmZiY9QArXo3A9ikxAw/UoXI/CB0DXo3A9ChdNQJqZmZmZmR5AexSuR+F6L0DsUbgehWs3QBWuR+F6dE5AZ2ZmZmaGTUAAAAAAAOBLQJqZmZmZGS1AZmZmZmbmIkA+CtejcL02QLkehetRGEBAFa5H4XqUKUBcj8L1KLxJQJDC9ShcDzFAhetRuB4lQEBI4XoUrgc8QDMzMzMzMzVAzczMzMxsTECQwvUoXE89QJDC9Shcj0VAFa5H4XqUQkAfhetRuJ43QOJ6FK5HIT1Aw/UoXI9CRUCamZmZmRlBQOJ6FK5HYTtAFK5H4Xr0S0AUrkfhehQyQK5H4XoUrjlAPgrXo3A9OkCamZmZmflCQPYoXI/C9SVAZ2ZmZmaGQUC5HoXrUfg6QNejcD0K1wtAkML1KFwPLkBnZmZmZmYeQLgehetRGENAMzMzMzMzREAAAAAAAMBCQHsUrkfhGkVAuR6F61G4HkDhehSuR+EmQM3MzMzMDDRAPgrXo3BdQUAUrkfhehRLQFyPwvUovFBAexSuR+F6QEDD9Shcj0I6QHsUrkfhejFACtejcD3KPUDNzMzMzOxHQPYoXI/CdSxAAAAAAAAAL0DsUbgehetBQBSuR+F6FAhAFK5H4XoUCEAUrkfhehQvQNejcD0KN0BA4XoUrkdhL0AAAAAAAMBCQFK4HoXrkT1AzczMzMwsR0A9CtejcH1FQOxRuB6FqztAwvUoXI9COkBSuB6F69E/QKRwPQrXw1RAAAAAAACgQED2KFyPwpVBQFK4HoXr0TpAFa5H4XqULUBSuB6F61EsQOF6FK5H4S1ArkfhehTuQEDXo3A9CrdBQB+F61G4fkhANDMzMzMzPUAK16NwPcoyQPYoXI/CtT9ArkfhehQuMUCkcD0K12M3QIXrUbgeBTZA\",\"dtype\":\"float64\",\"order\":\"little\",\"shape\":[153]},\"Transaction Date\":{\"__ndarray__\":\"AABA602cd0IAAABRoJx3QgAAwLbynHdCAACAHEWdd0IAAECCl513QgAAAOjpnXdCAADATTyed0IAAICzjp53QgAAQBnhnndCAAAAfzOfd0IAAMDkhZ93QgAAgErYn3dCAABAsCqgd0IAAAAWfaB3QgAAwHvPoHdCAACA4SGhd0IAAEBHdKF3QgAAAK3GoXdCAADAEhmid0IAAIB4a6J3QgAAQN69ondCAAAARBCjd0IAAMCpYqN3QgAAgA+1o3dCAABAdQekd0IAAADbWaR3QgAAwECspHdCAACApv6kd0IAAEAMUaV3QgAAAHKjpXdCAADA1/Wld0IAAIA9SKZ3QgAAQKOapndCAAAACe2md0IAAMBuP6d3QgAAgNSRp3dCAABAOuSnd0IAAACgNqh3QgAAwAWJqHdCAACAa9uod0IAAEDRLal3QgAAADeAqXdCAADAnNKpd0IAAIACJap3QgAAQGh3qndCAAAAzsmqd0IAAMAzHKt3QgAAgJluq3dCAABA/8Crd0IAAABlE6x3QgAAwMplrHdCAACAMLisd0IAAECWCq13QgAAAPxcrXdCAADAYa+td0IAAIDHAa53QgAAQC1UrndCAAAAk6aud0IAAMD4+K53QgAAgF5Lr3dCAABAxJ2vd0IAAAAq8K93QgAAwI9CsHdCAACA9ZSwd0IAAEBb57B3QgAAAME5sXdCAADAJoyxd0IAAICM3rF3QgAAQPIwsndCAAAAWIOyd0IAAMC91bJ3QgAAgCMos3dCAABAiXqzd0IAAADvzLN3QgAAwFQftHdCAACAunG0d0IAAEAgxLR3QgAAAIYWtXdCAADA62i1d0IAAIBRu7V3QgAAQLcNtndCAAAAHWC2d0IAAMCCsrZ3QgAAgOgEt3dCAABATle3d0IAAAC0qbd3QgAAwBn8t3dCAACAf064d0IAAEDloLh3QgAAAEvzuHdCAADAsEW5d0IAAIAWmLl3QgAAQHzquXdCAAAA4jy6d0IAAMBHj7p3QgAAgK3hundCAABAEzS7d0IAAAB5hrt3QgAAwN7Yu3dCAACARCu8d0IAAECqfbx3QgAAABDQvHdCAADAdSK9d0IAAIDbdL13QgAAQEHHvXdCAAAApxm+d0IAAMAMbL53QgAAgHK+vndCAABA2BC/d0IAAAA+Y793QgAAwKO1v3dCAACACQjAd0IAAEBvWsB3QgAAANWswHdCAADAOv/Ad0IAAICgUcF3QgAAQAakwXdCAAAAbPbBd0IAAMDRSMJ3QgAAgDebwndCAABAne3Cd0IAAAADQMN3QgAAwGiSw3dCAACAzuTDd0IAAEA0N8R3QgAAAJqJxHdCAADA/9vEd0IAAIBlLsV3QgAAQMuAxXdCAAAAMdPFd0IAAMCWJcZ3QgAAgPx3xndCAABAYsrGd0IAAADIHMd3QgAAwC1vx3dCAACAk8HHd0IAAED5E8h3QgAAAF9myHdCAADAxLjId0IAAIAqC8l3QgAAQJBdyXdCAAAA9q/Jd0IAAMBbAsp3QgAAgMFUyndCAABAJ6fKd0IAAACN+cp3QgAAwPJLy3dCAACAWJ7Ld0IAAEC+8Mt3QgAAACRDzHdCAADAiZXMd0IAAIDv58x3QgAAQFU6zXdC\",\"dtype\":\"float64\",\"order\":\"little\",\"shape\":[153]},\"index\":[0,1,2,3,4,5,6,7,8,9,10,11,12,13,14,15,16,17,18,19,20,21,22,23,24,25,26,27,28,29,30,31,32,33,34,35,36,37,38,39,40,41,42,43,44,45,46,47,48,49,50,51,52,53,54,55,56,57,58,59,60,61,62,63,64,65,66,67,68,69,70,71,72,73,74,75,76,77,78,79,80,81,82,83,84,85,86,87,88,89,90,91,92,93,94,95,96,97,98,99,100,101,102,103,104,105,106,107,108,109,110,111,112,113,114,115,116,117,118,119,120,121,122,123,124,125,126,127,128,129,130,131,132,133,134,135,136,137,138,139,140,141,142,143,144,145,146,147,148,149,150,151,152]},\"selected\":{\"id\":\"27821\"},\"selection_policy\":{\"id\":\"27820\"}},\"id\":\"26802\",\"type\":\"ColumnDataSource\"},{\"attributes\":{},\"id\":\"26825\",\"type\":\"SaveTool\"},{\"attributes\":{},\"id\":\"27833\",\"type\":\"YearsTicker\"},{\"attributes\":{},\"id\":\"26809\",\"type\":\"DataRange1d\"},{\"attributes\":{\"months\":[0,1,2,3,4,5,6,7,8,9,10,11]},\"id\":\"27829\",\"type\":\"MonthsTicker\"}],\"root_ids\":[\"26804\"]},\"title\":\"Bokeh Application\",\"version\":\"2.4.3\"}};\n  const render_items = [{\"docid\":\"c52aa09b-6e1f-4674-ab4f-51afe9ad8d47\",\"root_ids\":[\"26804\"],\"roots\":{\"26804\":\"45ecd7c0-a660-4a78-b05b-ed80bb4fdc12\"}}];\n  root.Bokeh.embed.embed_items_notebook(docs_json, render_items);\n  }\n  if (root.Bokeh !== undefined) {\n    embed_document(root);\n  } else {\n    let attempts = 0;\n    const timer = setInterval(function(root) {\n      if (root.Bokeh !== undefined) {\n        clearInterval(timer);\n        embed_document(root);\n      } else {\n        attempts++;\n        if (attempts > 100) {\n          clearInterval(timer);\n          console.log(\"Bokeh: ERROR: Unable to run BokehJS code because BokehJS library is missing\");\n        }\n      }\n    }, 10, root)\n  }\n})(window);",
      "application/vnd.bokehjs_exec.v0+json": ""
     },
     "metadata": {
      "application/vnd.bokehjs_exec.v0+json": {
       "id": "26804"
      }
     },
     "output_type": "display_data"
    }
   ],
   "source": [
    "# Set up the figure(s)\n",
    "# Create and configure the figure\n",
    "fig = figure(x_axis_type='datetime',\n",
    "            plot_height=800, plot_width=1500, tools=['xpan', 'reset', 'save'],\n",
    "            title='Amount vs Date',\n",
    "            x_axis_label='Date', y_axis_label='Amount',\n",
    "            toolbar_location=None)\n",
    "\n",
    "\n",
    "# Connect to and draw the data\n",
    "# Render the race as step lines\n",
    "\n",
    "\n",
    "#maak vbar fig\n",
    "fig.vbar(x='Transaction Date', top='Amount (Merchant Currency)', source=date_data_cds, width=20)\n",
    "\n",
    "fig2 = figure(x_axis_type='datetime',\n",
    "            plot_height=800, plot_width=1500, tools=['xpan', 'reset', 'save'],\n",
    "            title='Amount vs Date',\n",
    "            x_axis_label='Date', y_axis_label='Amount',\n",
    "            toolbar_location=None)\n",
    "fig2.vbar(x='Transaction Date', top='Amount (Merchant Currency)', source=date_data_cds_count, width=20)\n",
    "\n",
    "show(fig)"
   ]
  },
  {
   "cell_type": "code",
   "execution_count": 398,
   "metadata": {},
   "outputs": [],
   "source": []
  },
  {
   "cell_type": "code",
   "execution_count": 399,
   "metadata": {},
   "outputs": [],
   "source": []
  }
 ],
 "metadata": {
  "kernelspec": {
   "display_name": "base",
   "language": "python",
   "name": "python3"
  },
  "language_info": {
   "codemirror_mode": {
    "name": "ipython",
    "version": 3
   },
   "file_extension": ".py",
   "mimetype": "text/x-python",
   "name": "python",
   "nbconvert_exporter": "python",
   "pygments_lexer": "ipython3",
   "version": "3.9.13"
  },
  "orig_nbformat": 4,
  "vscode": {
   "interpreter": {
    "hash": "0bced20fae4d54435dcf3b0c3c80be0ec35c008c9332be46e0007333a2439b6f"
   }
  }
 },
 "nbformat": 4,
 "nbformat_minor": 2
}
