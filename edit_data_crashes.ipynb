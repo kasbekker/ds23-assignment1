{
 "cells": [
  {
   "cell_type": "code",
   "execution_count": 11,
   "metadata": {},
   "outputs": [],
   "source": [
    "#data handling\n",
    "import pandas as pd\n",
    "import numpy as np\n",
    "import glob, os\n",
    "\n",
    "# Bokeh libraries\n",
    "from bokeh.io import output_file, output_notebook\n",
    "from bokeh.plotting import figure, show\n",
    "from bokeh.models import ColumnDataSource\n",
    "from bokeh.layouts import row, column, gridplot\n",
    "from bokeh.models import TabPanel\n",
    "from bokeh.io import output_file\n",
    "from bokeh.plotting import figure, show\n",
    "from bokeh.models import HoverTool\n",
    "from bokeh.models import DatetimeTickFormatter"
   ]
  },
  {
   "cell_type": "code",
   "execution_count": 12,
   "metadata": {},
   "outputs": [
    {
     "name": "stdout",
     "output_type": "stream",
     "text": [
      "           Date                         Package Name  Daily Crashes  \\\n",
      "0    2021-06-01  com.vansteinengroentjes.apps.ddfive             15   \n",
      "1    2021-06-02  com.vansteinengroentjes.apps.ddfive             12   \n",
      "2    2021-06-03  com.vansteinengroentjes.apps.ddfive             20   \n",
      "3    2021-06-04  com.vansteinengroentjes.apps.ddfive             13   \n",
      "4    2021-06-05  com.vansteinengroentjes.apps.ddfive             14   \n",
      "..          ...                                  ...            ...   \n",
      "209  2021-12-27  com.vansteinengroentjes.apps.ddfive             64   \n",
      "210  2021-12-28  com.vansteinengroentjes.apps.ddfive             60   \n",
      "211  2021-12-29  com.vansteinengroentjes.apps.ddfive             37   \n",
      "212  2021-12-30  com.vansteinengroentjes.apps.ddfive             46   \n",
      "213  2021-12-31  com.vansteinengroentjes.apps.ddfive             50   \n",
      "\n",
      "     Daily ANRs  \n",
      "0             1  \n",
      "1             1  \n",
      "2             1  \n",
      "3             0  \n",
      "4             0  \n",
      "..          ...  \n",
      "209           0  \n",
      "210           0  \n",
      "211           0  \n",
      "212           1  \n",
      "213           0  \n",
      "\n",
      "[214 rows x 4 columns]\n"
     ]
    }
   ],
   "source": [
    "# Get CSV files list from a folder\n",
    "path = 'data/crashes_data'\n",
    "csv_files = glob.glob(path + \"/*.csv\")\n",
    "\n",
    "# Read each CSV file into DataFrame\n",
    "# This creates a list of dataframes\n",
    "df_list = (pd.read_csv(file, encoding = 'utf-16') for file in csv_files)\n",
    "\n",
    "\n",
    "#encoding moest hier gedefinieerd worden anders kreeg ik een error, https://stackoverflow.com/questions/50342517/unicodedecodeerror-reading-a-csv-file\n",
    "\n",
    "# Concatenate all DataFrames\n",
    "df   = pd.concat(df_list, ignore_index=True)\n",
    "\n",
    "print(df)"
   ]
  },
  {
   "cell_type": "code",
   "execution_count": 13,
   "metadata": {},
   "outputs": [
    {
     "name": "stdout",
     "output_type": "stream",
     "text": [
      "           Date                         Package Name  Daily Crashes  \\\n",
      "0    2021-06-01  com.vansteinengroentjes.apps.ddfive             15   \n",
      "1    2021-06-02  com.vansteinengroentjes.apps.ddfive             12   \n",
      "2    2021-06-03  com.vansteinengroentjes.apps.ddfive             20   \n",
      "3    2021-06-04  com.vansteinengroentjes.apps.ddfive             13   \n",
      "4    2021-06-05  com.vansteinengroentjes.apps.ddfive             14   \n",
      "..          ...                                  ...            ...   \n",
      "209  2021-12-27  com.vansteinengroentjes.apps.ddfive             64   \n",
      "210  2021-12-28  com.vansteinengroentjes.apps.ddfive             60   \n",
      "211  2021-12-29  com.vansteinengroentjes.apps.ddfive             37   \n",
      "212  2021-12-30  com.vansteinengroentjes.apps.ddfive             46   \n",
      "213  2021-12-31  com.vansteinengroentjes.apps.ddfive             50   \n",
      "\n",
      "     Daily ANRs  \n",
      "0             1  \n",
      "1             1  \n",
      "2             1  \n",
      "3             0  \n",
      "4             0  \n",
      "..          ...  \n",
      "209           0  \n",
      "210           0  \n",
      "211           0  \n",
      "212           1  \n",
      "213           0  \n",
      "\n",
      "[214 rows x 4 columns]\n"
     ]
    }
   ],
   "source": [
    "#selecteert de rijen die van belang zijn (zie opdracht document)\n",
    "df = df[[\"Date\",\"Package Name\",\"Daily Crashes\",\"Daily ANRs\"]]\n",
    "\n",
    "\n",
    "print(df)"
   ]
  },
  {
   "cell_type": "code",
   "execution_count": 14,
   "metadata": {},
   "outputs": [
    {
     "data": {
      "text/plain": [
       "Date             0.0\n",
       "Package Name     0.0\n",
       "Daily Crashes    0.0\n",
       "Daily ANRs       0.0\n",
       "dtype: float64"
      ]
     },
     "execution_count": 14,
     "metadata": {},
     "output_type": "execute_result"
    }
   ],
   "source": [
    "#laat het percentage NaN values zijn.\n",
    "df.isna().sum()/len(df)*100"
   ]
  },
  {
   "cell_type": "code",
   "execution_count": 15,
   "metadata": {},
   "outputs": [
    {
     "name": "stdout",
     "output_type": "stream",
     "text": [
      "          Date                         Package Name  Daily Crashes  Daily ANRs\n",
      "0   2021-06-01  com.vansteinengroentjes.apps.ddfive             15           1\n",
      "1   2021-06-02  com.vansteinengroentjes.apps.ddfive             12           1\n",
      "2   2021-06-03  com.vansteinengroentjes.apps.ddfive             20           1\n",
      "3   2021-06-04  com.vansteinengroentjes.apps.ddfive             13           0\n",
      "4   2021-06-05  com.vansteinengroentjes.apps.ddfive             14           0\n",
      "..         ...                                  ...            ...         ...\n",
      "209 2021-12-27  com.vansteinengroentjes.apps.ddfive             64           0\n",
      "210 2021-12-28  com.vansteinengroentjes.apps.ddfive             60           0\n",
      "211 2021-12-29  com.vansteinengroentjes.apps.ddfive             37           0\n",
      "212 2021-12-30  com.vansteinengroentjes.apps.ddfive             46           1\n",
      "213 2021-12-31  com.vansteinengroentjes.apps.ddfive             50           0\n",
      "\n",
      "[214 rows x 4 columns]\n"
     ]
    }
   ],
   "source": [
    "#Vertaalt de data in de kolom 'date' naar leesbaar data voor de pandas dataframe \n",
    "df['Date'] = pd.to_datetime(df['Date'])\n",
    " \n",
    "df_crashes_ANRs = df\n",
    "\n",
    "print(df_crashes_ANRs)"
   ]
  },
  {
   "cell_type": "code",
   "execution_count": 20,
   "metadata": {},
   "outputs": [
    {
     "name": "stdout",
     "output_type": "stream",
     "text": [
      "          Date  Daily Crashes\n",
      "0   2021-06-01             15\n",
      "1   2021-06-02             12\n",
      "2   2021-06-03             20\n",
      "3   2021-06-04             13\n",
      "4   2021-06-05             14\n",
      "..         ...            ...\n",
      "209 2021-12-27             64\n",
      "210 2021-12-28             60\n",
      "211 2021-12-29             37\n",
      "212 2021-12-30             46\n",
      "213 2021-12-31             50\n",
      "\n",
      "[214 rows x 2 columns]\n"
     ]
    }
   ],
   "source": [
    "#selecteerd de kolommen 'date' en 'Daily Crashes'\n",
    "df_date_crashes = df_crashes_ANRs[[\"Date\", \"Daily Crashes\"]]\n",
    "\n",
    "#Maakt cds bestanden en zorgt ervoor dat 'Date' een kolom blijft in de dataframe\n",
    "df_date_crashes_cds = ColumnDataSource(df_crashes_ANRs.groupby('Date')['Daily Crashes'].sum().to_frame().reset_index())\n",
    "\n",
    "print(df_date_crashes)\n"
   ]
  },
  {
   "cell_type": "code",
   "execution_count": 21,
   "metadata": {},
   "outputs": [
    {
     "name": "stdout",
     "output_type": "stream",
     "text": [
      "        Date  Daily Crashes\n",
      "0 2021-06-30      13.466667\n",
      "1 2021-07-31      16.322581\n",
      "2 2021-08-31      12.806452\n",
      "3 2021-09-30      15.000000\n",
      "4 2021-10-31      19.935484\n",
      "5 2021-11-30      31.466667\n",
      "6 2021-12-31      56.225806\n"
     ]
    }
   ],
   "source": [
    "#Geeft de gemiddelde average crashes per maand\n",
    "df_date_avg_crashes_monthly = df_date_crashes.groupby(pd.Grouper(key='Date', freq='M')).mean().reset_index()\n",
    "\n",
    "print(df_date_avg_crashes_monthly)"
   ]
  },
  {
   "cell_type": "code",
   "execution_count": 27,
   "metadata": {},
   "outputs": [
    {
     "data": {
      "text/html": [
       "\n",
       "  <div id=\"e81387cf-6fbd-4147-9dbf-379df502a6b1\" data-root-id=\"p2529\" style=\"display: contents;\"></div>\n"
      ]
     },
     "metadata": {},
     "output_type": "display_data"
    },
    {
     "data": {
      "application/javascript": "(function(root) {\n  function embed_document(root) {\n  const docs_json = {\"1a6ea30f-3b03-45c9-bde8-c7da9865236f\":{\"version\":\"3.0.3\",\"title\":\"Bokeh Application\",\"defs\":[],\"roots\":[{\"type\":\"object\",\"name\":\"Figure\",\"id\":\"p2529\",\"attributes\":{\"width\":800,\"height\":400,\"x_range\":{\"type\":\"object\",\"name\":\"DataRange1d\",\"id\":\"p2530\"},\"y_range\":{\"type\":\"object\",\"name\":\"DataRange1d\",\"id\":\"p2531\"},\"x_scale\":{\"type\":\"object\",\"name\":\"LinearScale\",\"id\":\"p2543\"},\"y_scale\":{\"type\":\"object\",\"name\":\"LinearScale\",\"id\":\"p2545\"},\"title\":{\"type\":\"object\",\"name\":\"Title\",\"id\":\"p2532\",\"attributes\":{\"text\":\"Average crashes per month\"}},\"renderers\":[{\"type\":\"object\",\"name\":\"GlyphRenderer\",\"id\":\"p2622\",\"attributes\":{\"data_source\":{\"type\":\"object\",\"name\":\"ColumnDataSource\",\"id\":\"p2612\",\"attributes\":{\"selected\":{\"type\":\"object\",\"name\":\"Selection\",\"id\":\"p2614\",\"attributes\":{\"indices\":[],\"line_indices\":[]}},\"selection_policy\":{\"type\":\"object\",\"name\":\"UnionRenderers\",\"id\":\"p2613\"},\"data\":{\"type\":\"map\",\"entries\":[[\"index\",{\"type\":\"ndarray\",\"array\":{\"type\":\"bytes\",\"data\":\"AAAAAAEAAAACAAAAAwAAAAQAAAAFAAAABgAAAA==\"},\"shape\":[7],\"dtype\":\"int32\",\"order\":\"little\"}],[\"Date\",{\"type\":\"ndarray\",\"array\":{\"type\":\"bytes\",\"data\":\"AAAAcqOld0IAAEDEna93QgAAgBaYuXdCAAAAA0DDd0IAAEBVOs13QgAAwEHi1ndCAAAAlNzgd0I=\"},\"shape\":[7],\"dtype\":\"float64\",\"order\":\"little\"}],[\"Daily Crashes\",{\"type\":\"ndarray\",\"array\":{\"type\":\"bytes\",\"data\":\"7+7u7u7uKkBTSimllFIwQJ1zzjnnnClAAAAAAAAALkDvvffee+8zQHd3d3d3dz9AnXPOOeccTEA=\"},\"shape\":[7],\"dtype\":\"float64\",\"order\":\"little\"}]]}}},\"view\":{\"type\":\"object\",\"name\":\"CDSView\",\"id\":\"p2623\",\"attributes\":{\"filter\":{\"type\":\"object\",\"name\":\"AllIndices\",\"id\":\"p2624\"}}},\"glyph\":{\"type\":\"object\",\"name\":\"VBar\",\"id\":\"p2619\",\"attributes\":{\"x\":{\"type\":\"field\",\"field\":\"Date\"},\"width\":{\"type\":\"value\",\"value\":2419200000},\"top\":{\"type\":\"field\",\"field\":\"Daily Crashes\"},\"line_color\":{\"type\":\"value\",\"value\":\"#1f77b4\"},\"fill_color\":{\"type\":\"value\",\"value\":\"#1f77b4\"}}},\"nonselection_glyph\":{\"type\":\"object\",\"name\":\"VBar\",\"id\":\"p2620\",\"attributes\":{\"x\":{\"type\":\"field\",\"field\":\"Date\"},\"width\":{\"type\":\"value\",\"value\":2419200000},\"top\":{\"type\":\"field\",\"field\":\"Daily Crashes\"},\"line_color\":{\"type\":\"value\",\"value\":\"#1f77b4\"},\"line_alpha\":{\"type\":\"value\",\"value\":0.1},\"fill_color\":{\"type\":\"value\",\"value\":\"#1f77b4\"},\"fill_alpha\":{\"type\":\"value\",\"value\":0.1},\"hatch_alpha\":{\"type\":\"value\",\"value\":0.1}}},\"muted_glyph\":{\"type\":\"object\",\"name\":\"VBar\",\"id\":\"p2621\",\"attributes\":{\"x\":{\"type\":\"field\",\"field\":\"Date\"},\"width\":{\"type\":\"value\",\"value\":2419200000},\"top\":{\"type\":\"field\",\"field\":\"Daily Crashes\"},\"line_color\":{\"type\":\"value\",\"value\":\"#1f77b4\"},\"line_alpha\":{\"type\":\"value\",\"value\":0.2},\"fill_color\":{\"type\":\"value\",\"value\":\"#1f77b4\"},\"fill_alpha\":{\"type\":\"value\",\"value\":0.2},\"hatch_alpha\":{\"type\":\"value\",\"value\":0.2}}}}}],\"toolbar\":{\"type\":\"object\",\"name\":\"Toolbar\",\"id\":\"p2538\",\"attributes\":{\"tools\":[{\"type\":\"object\",\"name\":\"PanTool\",\"id\":\"p2597\"},{\"type\":\"object\",\"name\":\"WheelZoomTool\",\"id\":\"p2598\"},{\"type\":\"object\",\"name\":\"BoxZoomTool\",\"id\":\"p2599\",\"attributes\":{\"overlay\":{\"type\":\"object\",\"name\":\"BoxAnnotation\",\"id\":\"p2600\",\"attributes\":{\"syncable\":false,\"level\":\"overlay\",\"visible\":false,\"left_units\":\"canvas\",\"right_units\":\"canvas\",\"bottom_units\":\"canvas\",\"top_units\":\"canvas\",\"line_color\":\"black\",\"line_alpha\":1.0,\"line_width\":2,\"line_dash\":[4,4],\"fill_color\":\"lightgrey\",\"fill_alpha\":0.5}}}},{\"type\":\"object\",\"name\":\"SaveTool\",\"id\":\"p2601\"},{\"type\":\"object\",\"name\":\"ResetTool\",\"id\":\"p2602\"},{\"type\":\"object\",\"name\":\"HelpTool\",\"id\":\"p2603\"},{\"type\":\"object\",\"name\":\"HoverTool\",\"id\":\"p2615\",\"attributes\":{\"renderers\":\"auto\",\"tooltips\":[[\"Crashes\",\"@{Daily Crashes}\"]]}}]}},\"left\":[{\"type\":\"object\",\"name\":\"LinearAxis\",\"id\":\"p2590\",\"attributes\":{\"ticker\":{\"type\":\"object\",\"name\":\"BasicTicker\",\"id\":\"p2591\",\"attributes\":{\"mantissas\":[1,2,5]}},\"formatter\":{\"type\":\"object\",\"name\":\"BasicTickFormatter\",\"id\":\"p2593\"},\"axis_label\":\"Crashes\",\"major_label_policy\":{\"type\":\"object\",\"name\":\"AllLabels\",\"id\":\"p2592\"}}}],\"below\":[{\"type\":\"object\",\"name\":\"DatetimeAxis\",\"id\":\"p2547\",\"attributes\":{\"ticker\":{\"type\":\"object\",\"name\":\"DatetimeTicker\",\"id\":\"p2548\",\"attributes\":{\"num_minor_ticks\":5,\"tickers\":[{\"type\":\"object\",\"name\":\"AdaptiveTicker\",\"id\":\"p2549\",\"attributes\":{\"num_minor_ticks\":0,\"mantissas\":[1,2,5],\"max_interval\":500.0}},{\"type\":\"object\",\"name\":\"AdaptiveTicker\",\"id\":\"p2550\",\"attributes\":{\"num_minor_ticks\":0,\"base\":60,\"mantissas\":[1,2,5,10,15,20,30],\"min_interval\":1000.0,\"max_interval\":1800000.0}},{\"type\":\"object\",\"name\":\"AdaptiveTicker\",\"id\":\"p2551\",\"attributes\":{\"num_minor_ticks\":0,\"base\":24,\"mantissas\":[1,2,4,6,8,12],\"min_interval\":3600000.0,\"max_interval\":43200000.0}},{\"type\":\"object\",\"name\":\"DaysTicker\",\"id\":\"p2552\",\"attributes\":{\"days\":[1,2,3,4,5,6,7,8,9,10,11,12,13,14,15,16,17,18,19,20,21,22,23,24,25,26,27,28,29,30,31]}},{\"type\":\"object\",\"name\":\"DaysTicker\",\"id\":\"p2553\",\"attributes\":{\"days\":[1,4,7,10,13,16,19,22,25,28]}},{\"type\":\"object\",\"name\":\"DaysTicker\",\"id\":\"p2554\",\"attributes\":{\"days\":[1,8,15,22]}},{\"type\":\"object\",\"name\":\"DaysTicker\",\"id\":\"p2555\",\"attributes\":{\"days\":[1,15]}},{\"type\":\"object\",\"name\":\"MonthsTicker\",\"id\":\"p2556\",\"attributes\":{\"months\":[0,1,2,3,4,5,6,7,8,9,10,11]}},{\"type\":\"object\",\"name\":\"MonthsTicker\",\"id\":\"p2557\",\"attributes\":{\"months\":[0,2,4,6,8,10]}},{\"type\":\"object\",\"name\":\"MonthsTicker\",\"id\":\"p2558\",\"attributes\":{\"months\":[0,4,8]}},{\"type\":\"object\",\"name\":\"MonthsTicker\",\"id\":\"p2559\",\"attributes\":{\"months\":[0,6]}},{\"type\":\"object\",\"name\":\"YearsTicker\",\"id\":\"p2560\"}]}},\"formatter\":{\"type\":\"object\",\"name\":\"DatetimeTickFormatter\",\"id\":\"p2562\"},\"axis_label\":\"Date\",\"major_label_policy\":{\"type\":\"object\",\"name\":\"AllLabels\",\"id\":\"p2561\"}}}],\"center\":[{\"type\":\"object\",\"name\":\"Grid\",\"id\":\"p2589\",\"attributes\":{\"axis\":{\"id\":\"p2547\"}}},{\"type\":\"object\",\"name\":\"Grid\",\"id\":\"p2596\",\"attributes\":{\"dimension\":1,\"axis\":{\"id\":\"p2590\"}}}]}}]}};\n  const render_items = [{\"docid\":\"1a6ea30f-3b03-45c9-bde8-c7da9865236f\",\"roots\":{\"p2529\":\"e81387cf-6fbd-4147-9dbf-379df502a6b1\"},\"root_ids\":[\"p2529\"]}];\n  root.Bokeh.embed.embed_items_notebook(docs_json, render_items);\n  }\n  if (root.Bokeh !== undefined) {\n    embed_document(root);\n  } else {\n    let attempts = 0;\n    const timer = setInterval(function(root) {\n      if (root.Bokeh !== undefined) {\n        clearInterval(timer);\n        embed_document(root);\n      } else {\n        attempts++;\n        if (attempts > 100) {\n          clearInterval(timer);\n          console.log(\"Bokeh: ERROR: Unable to run BokehJS code because BokehJS library is missing\");\n        }\n      }\n    }, 10, root)\n  }\n})(window);",
      "application/vnd.bokehjs_exec.v0+json": ""
     },
     "metadata": {
      "application/vnd.bokehjs_exec.v0+json": {
       "id": "p2529"
      }
     },
     "output_type": "display_data"
    }
   ],
   "source": [
    "#Figuur opzetten\n",
    "fig = figure(title = 'Average crashes per month', \n",
    "             x_axis_type='datetime', \n",
    "             height=400, \n",
    "             width=800, \n",
    "             x_axis_label='Date', \n",
    "             y_axis_label='Crashes')\n",
    "\n",
    "\n",
    "source = ColumnDataSource(df_date_avg_crashes_monthly)\n",
    "\n",
    "#Add the hover tool to the figure\n",
    "hover = HoverTool(tooltips=[('Crashes', '@{Daily Crashes}')])\n",
    "\n",
    "fig.vbar(x='Date', top='Daily Crashes', source=source, width=86400000*28)\n",
    "\n",
    "# Add the hover tool to the figure\n",
    "fig.add_tools(hover)\n",
    "\n",
    "show(fig)\n",
    "\n",
    "#x-as klopt nog niet, hij begint 1 maand later dan in de dataframe!\n"
   ]
  },
  {
   "cell_type": "code",
   "execution_count": 24,
   "metadata": {},
   "outputs": [
    {
     "name": "stdout",
     "output_type": "stream",
     "text": [
      "          Date  Daily ANRs\n",
      "0   2021-06-01           1\n",
      "1   2021-06-02           1\n",
      "2   2021-06-03           1\n",
      "3   2021-06-04           0\n",
      "4   2021-06-05           0\n",
      "..         ...         ...\n",
      "209 2021-12-27           0\n",
      "210 2021-12-28           0\n",
      "211 2021-12-29           0\n",
      "212 2021-12-30           1\n",
      "213 2021-12-31           0\n",
      "\n",
      "[214 rows x 2 columns]\n"
     ]
    }
   ],
   "source": [
    "#selecteerd de kolommen 'date' en 'Daily ANRs'\n",
    "df_date_ANRs = df_crashes_ANRs[[\"Date\", \"Daily ANRs\"]]\n",
    "\n",
    "#Maakt cds bestanden\n",
    "df_date_ANRs_cds = ColumnDataSource(df_crashes_ANRs.groupby('Date')['Daily ANRs'].sum().to_frame().reset_index())\n",
    "\n",
    "print(df_date_ANRs)"
   ]
  },
  {
   "cell_type": "code",
   "execution_count": 25,
   "metadata": {},
   "outputs": [
    {
     "name": "stdout",
     "output_type": "stream",
     "text": [
      "        Date  Daily ANRs\n",
      "0 2021-06-30    0.400000\n",
      "1 2021-07-31    1.000000\n",
      "2 2021-08-31    0.322581\n",
      "3 2021-09-30    0.533333\n",
      "4 2021-10-31    0.419355\n",
      "5 2021-11-30    0.400000\n",
      "6 2021-12-31    0.129032\n"
     ]
    }
   ],
   "source": [
    "#Geeft de gemiddelde average ANRs per maand\n",
    "df_date_avg_ANRs_monthly = df_date_ANRs.groupby(pd.Grouper(key='Date', freq='M')).mean().reset_index()\n",
    "\n",
    "print(df_date_avg_ANRs_monthly)"
   ]
  },
  {
   "cell_type": "code",
   "execution_count": 28,
   "metadata": {},
   "outputs": [
    {
     "data": {
      "text/html": [
       "\n",
       "  <div id=\"dfc15c73-e194-46cf-9991-96a3ab180fd8\" data-root-id=\"p2999\" style=\"display: contents;\"></div>\n"
      ]
     },
     "metadata": {},
     "output_type": "display_data"
    },
    {
     "data": {
      "application/javascript": "(function(root) {\n  function embed_document(root) {\n  const docs_json = {\"4ab916e7-ce05-49ce-a1df-c9a6f2785436\":{\"version\":\"3.0.3\",\"title\":\"Bokeh Application\",\"defs\":[],\"roots\":[{\"type\":\"object\",\"name\":\"Figure\",\"id\":\"p2999\",\"attributes\":{\"width\":800,\"height\":400,\"x_range\":{\"type\":\"object\",\"name\":\"DataRange1d\",\"id\":\"p3000\"},\"y_range\":{\"type\":\"object\",\"name\":\"DataRange1d\",\"id\":\"p3001\"},\"x_scale\":{\"type\":\"object\",\"name\":\"LinearScale\",\"id\":\"p3013\"},\"y_scale\":{\"type\":\"object\",\"name\":\"LinearScale\",\"id\":\"p3015\"},\"title\":{\"type\":\"object\",\"name\":\"Title\",\"id\":\"p3002\",\"attributes\":{\"text\":\"Average ANRs per month\"}},\"renderers\":[{\"type\":\"object\",\"name\":\"GlyphRenderer\",\"id\":\"p3092\",\"attributes\":{\"data_source\":{\"type\":\"object\",\"name\":\"ColumnDataSource\",\"id\":\"p3082\",\"attributes\":{\"selected\":{\"type\":\"object\",\"name\":\"Selection\",\"id\":\"p3084\",\"attributes\":{\"indices\":[],\"line_indices\":[]}},\"selection_policy\":{\"type\":\"object\",\"name\":\"UnionRenderers\",\"id\":\"p3083\"},\"data\":{\"type\":\"map\",\"entries\":[[\"index\",{\"type\":\"ndarray\",\"array\":{\"type\":\"bytes\",\"data\":\"AAAAAAEAAAACAAAAAwAAAAQAAAAFAAAABgAAAA==\"},\"shape\":[7],\"dtype\":\"int32\",\"order\":\"little\"}],[\"Date\",{\"type\":\"ndarray\",\"array\":{\"type\":\"bytes\",\"data\":\"AAAAcqOld0IAAEDEna93QgAAgBaYuXdCAAAAA0DDd0IAAEBVOs13QgAAwEHi1ndCAAAAlNzgd0I=\"},\"shape\":[7],\"dtype\":\"float64\",\"order\":\"little\"}],[\"Daily ANRs\",{\"type\":\"ndarray\",\"array\":{\"type\":\"bytes\",\"data\":\"mpmZmZmZ2T8AAAAAAADwP6WUUkoppdQ/ERERERER4T/XWmuttdbaP5qZmZmZmdk/hBBCCCGEwD8=\"},\"shape\":[7],\"dtype\":\"float64\",\"order\":\"little\"}]]}}},\"view\":{\"type\":\"object\",\"name\":\"CDSView\",\"id\":\"p3093\",\"attributes\":{\"filter\":{\"type\":\"object\",\"name\":\"AllIndices\",\"id\":\"p3094\"}}},\"glyph\":{\"type\":\"object\",\"name\":\"VBar\",\"id\":\"p3089\",\"attributes\":{\"x\":{\"type\":\"field\",\"field\":\"Date\"},\"width\":{\"type\":\"value\",\"value\":2419200000},\"top\":{\"type\":\"field\",\"field\":\"Daily ANRs\"},\"line_color\":{\"type\":\"value\",\"value\":\"#1f77b4\"},\"fill_color\":{\"type\":\"value\",\"value\":\"#1f77b4\"}}},\"nonselection_glyph\":{\"type\":\"object\",\"name\":\"VBar\",\"id\":\"p3090\",\"attributes\":{\"x\":{\"type\":\"field\",\"field\":\"Date\"},\"width\":{\"type\":\"value\",\"value\":2419200000},\"top\":{\"type\":\"field\",\"field\":\"Daily ANRs\"},\"line_color\":{\"type\":\"value\",\"value\":\"#1f77b4\"},\"line_alpha\":{\"type\":\"value\",\"value\":0.1},\"fill_color\":{\"type\":\"value\",\"value\":\"#1f77b4\"},\"fill_alpha\":{\"type\":\"value\",\"value\":0.1},\"hatch_alpha\":{\"type\":\"value\",\"value\":0.1}}},\"muted_glyph\":{\"type\":\"object\",\"name\":\"VBar\",\"id\":\"p3091\",\"attributes\":{\"x\":{\"type\":\"field\",\"field\":\"Date\"},\"width\":{\"type\":\"value\",\"value\":2419200000},\"top\":{\"type\":\"field\",\"field\":\"Daily ANRs\"},\"line_color\":{\"type\":\"value\",\"value\":\"#1f77b4\"},\"line_alpha\":{\"type\":\"value\",\"value\":0.2},\"fill_color\":{\"type\":\"value\",\"value\":\"#1f77b4\"},\"fill_alpha\":{\"type\":\"value\",\"value\":0.2},\"hatch_alpha\":{\"type\":\"value\",\"value\":0.2}}}}}],\"toolbar\":{\"type\":\"object\",\"name\":\"Toolbar\",\"id\":\"p3008\",\"attributes\":{\"tools\":[{\"type\":\"object\",\"name\":\"PanTool\",\"id\":\"p3067\"},{\"type\":\"object\",\"name\":\"WheelZoomTool\",\"id\":\"p3068\"},{\"type\":\"object\",\"name\":\"BoxZoomTool\",\"id\":\"p3069\",\"attributes\":{\"overlay\":{\"type\":\"object\",\"name\":\"BoxAnnotation\",\"id\":\"p3070\",\"attributes\":{\"syncable\":false,\"level\":\"overlay\",\"visible\":false,\"left_units\":\"canvas\",\"right_units\":\"canvas\",\"bottom_units\":\"canvas\",\"top_units\":\"canvas\",\"line_color\":\"black\",\"line_alpha\":1.0,\"line_width\":2,\"line_dash\":[4,4],\"fill_color\":\"lightgrey\",\"fill_alpha\":0.5}}}},{\"type\":\"object\",\"name\":\"SaveTool\",\"id\":\"p3071\"},{\"type\":\"object\",\"name\":\"ResetTool\",\"id\":\"p3072\"},{\"type\":\"object\",\"name\":\"HelpTool\",\"id\":\"p3073\"},{\"type\":\"object\",\"name\":\"HoverTool\",\"id\":\"p3085\",\"attributes\":{\"renderers\":\"auto\",\"tooltips\":[[\"ANRs\",\"@{Daily ANRs}\"]]}}]}},\"left\":[{\"type\":\"object\",\"name\":\"LinearAxis\",\"id\":\"p3060\",\"attributes\":{\"ticker\":{\"type\":\"object\",\"name\":\"BasicTicker\",\"id\":\"p3061\",\"attributes\":{\"mantissas\":[1,2,5]}},\"formatter\":{\"type\":\"object\",\"name\":\"BasicTickFormatter\",\"id\":\"p3063\"},\"axis_label\":\"ANRs\",\"major_label_policy\":{\"type\":\"object\",\"name\":\"AllLabels\",\"id\":\"p3062\"}}}],\"below\":[{\"type\":\"object\",\"name\":\"DatetimeAxis\",\"id\":\"p3017\",\"attributes\":{\"ticker\":{\"type\":\"object\",\"name\":\"DatetimeTicker\",\"id\":\"p3018\",\"attributes\":{\"num_minor_ticks\":5,\"tickers\":[{\"type\":\"object\",\"name\":\"AdaptiveTicker\",\"id\":\"p3019\",\"attributes\":{\"num_minor_ticks\":0,\"mantissas\":[1,2,5],\"max_interval\":500.0}},{\"type\":\"object\",\"name\":\"AdaptiveTicker\",\"id\":\"p3020\",\"attributes\":{\"num_minor_ticks\":0,\"base\":60,\"mantissas\":[1,2,5,10,15,20,30],\"min_interval\":1000.0,\"max_interval\":1800000.0}},{\"type\":\"object\",\"name\":\"AdaptiveTicker\",\"id\":\"p3021\",\"attributes\":{\"num_minor_ticks\":0,\"base\":24,\"mantissas\":[1,2,4,6,8,12],\"min_interval\":3600000.0,\"max_interval\":43200000.0}},{\"type\":\"object\",\"name\":\"DaysTicker\",\"id\":\"p3022\",\"attributes\":{\"days\":[1,2,3,4,5,6,7,8,9,10,11,12,13,14,15,16,17,18,19,20,21,22,23,24,25,26,27,28,29,30,31]}},{\"type\":\"object\",\"name\":\"DaysTicker\",\"id\":\"p3023\",\"attributes\":{\"days\":[1,4,7,10,13,16,19,22,25,28]}},{\"type\":\"object\",\"name\":\"DaysTicker\",\"id\":\"p3024\",\"attributes\":{\"days\":[1,8,15,22]}},{\"type\":\"object\",\"name\":\"DaysTicker\",\"id\":\"p3025\",\"attributes\":{\"days\":[1,15]}},{\"type\":\"object\",\"name\":\"MonthsTicker\",\"id\":\"p3026\",\"attributes\":{\"months\":[0,1,2,3,4,5,6,7,8,9,10,11]}},{\"type\":\"object\",\"name\":\"MonthsTicker\",\"id\":\"p3027\",\"attributes\":{\"months\":[0,2,4,6,8,10]}},{\"type\":\"object\",\"name\":\"MonthsTicker\",\"id\":\"p3028\",\"attributes\":{\"months\":[0,4,8]}},{\"type\":\"object\",\"name\":\"MonthsTicker\",\"id\":\"p3029\",\"attributes\":{\"months\":[0,6]}},{\"type\":\"object\",\"name\":\"YearsTicker\",\"id\":\"p3030\"}]}},\"formatter\":{\"type\":\"object\",\"name\":\"DatetimeTickFormatter\",\"id\":\"p3032\"},\"axis_label\":\"Date\",\"major_label_policy\":{\"type\":\"object\",\"name\":\"AllLabels\",\"id\":\"p3031\"}}}],\"center\":[{\"type\":\"object\",\"name\":\"Grid\",\"id\":\"p3059\",\"attributes\":{\"axis\":{\"id\":\"p3017\"}}},{\"type\":\"object\",\"name\":\"Grid\",\"id\":\"p3066\",\"attributes\":{\"dimension\":1,\"axis\":{\"id\":\"p3060\"}}}]}}]}};\n  const render_items = [{\"docid\":\"4ab916e7-ce05-49ce-a1df-c9a6f2785436\",\"roots\":{\"p2999\":\"dfc15c73-e194-46cf-9991-96a3ab180fd8\"},\"root_ids\":[\"p2999\"]}];\n  root.Bokeh.embed.embed_items_notebook(docs_json, render_items);\n  }\n  if (root.Bokeh !== undefined) {\n    embed_document(root);\n  } else {\n    let attempts = 0;\n    const timer = setInterval(function(root) {\n      if (root.Bokeh !== undefined) {\n        clearInterval(timer);\n        embed_document(root);\n      } else {\n        attempts++;\n        if (attempts > 100) {\n          clearInterval(timer);\n          console.log(\"Bokeh: ERROR: Unable to run BokehJS code because BokehJS library is missing\");\n        }\n      }\n    }, 10, root)\n  }\n})(window);",
      "application/vnd.bokehjs_exec.v0+json": ""
     },
     "metadata": {
      "application/vnd.bokehjs_exec.v0+json": {
       "id": "p2999"
      }
     },
     "output_type": "display_data"
    }
   ],
   "source": [
    "#Zet het figuur op\n",
    "fig = figure(title = 'Average ANRs per month', \n",
    "             x_axis_type='datetime', \n",
    "             height=400, \n",
    "             width=800, \n",
    "             x_axis_label='Date', \n",
    "             y_axis_label='ANRs')\n",
    "\n",
    "\n",
    "source = ColumnDataSource(df_date_avg_ANRs_monthly)\n",
    "\n",
    "# Add the hover tool to the figure\n",
    "hover = HoverTool(tooltips=[('ANRs', '@{Daily ANRs}')])\n",
    "\n",
    "fig.vbar(x='Date', top='Daily ANRs', source=source, width=86400000*28)\n",
    "\n",
    "# Add the hover tool to the figure\n",
    "fig.add_tools(hover)\n",
    "\n",
    "\n",
    "show(fig)\n",
    "\n",
    "#x-as klopt nog niet, hij begint 1 maand later dan in de dataframe!\n"
   ]
  }
 ],
 "metadata": {
  "kernelspec": {
   "display_name": "Python 3",
   "language": "python",
   "name": "python3"
  },
  "language_info": {
   "codemirror_mode": {
    "name": "ipython",
    "version": 3
   },
   "file_extension": ".py",
   "mimetype": "text/x-python",
   "name": "python",
   "nbconvert_exporter": "python",
   "pygments_lexer": "ipython3",
   "version": "3.9.13"
  },
  "orig_nbformat": 4,
  "vscode": {
   "interpreter": {
    "hash": "8325d1ae68dd226e79c9f9d9e7011cb17e0aa1f8622f5bc9384f5defaf587413"
   }
  }
 },
 "nbformat": 4,
 "nbformat_minor": 2
}
