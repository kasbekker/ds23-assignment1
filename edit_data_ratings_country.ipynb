{
 "cells": [
  {
   "cell_type": "code",
   "execution_count": 3,
   "metadata": {},
   "outputs": [],
   "source": [
    "#data handling\n",
    "import pandas as pd\n",
    "import numpy as np\n",
    "import glob, os\n",
    "\n",
    "# Bokeh libraries\n",
    "from bokeh.io import output_file, output_notebook\n",
    "from bokeh.plotting import figure, show\n",
    "from bokeh.models import ColumnDataSource\n",
    "from bokeh.layouts import row, column, gridplot\n",
    "from bokeh.models import TabPanel\n",
    "from bokeh.io import output_file\n",
    "from bokeh.plotting import figure, show\n",
    "from bokeh.models import HoverTool\n",
    "from bokeh.models import DatetimeTickFormatter\n",
    "from bokeh.models import DataRange1d"
   ]
  },
  {
   "cell_type": "code",
   "execution_count": 4,
   "metadata": {},
   "outputs": [
    {
     "name": "stdout",
     "output_type": "stream",
     "text": [
      "             Date                         Package Name Country  \\\n",
      "0      2021-06-01  com.vansteinengroentjes.apps.ddfive      AR   \n",
      "1      2021-06-01  com.vansteinengroentjes.apps.ddfive      AT   \n",
      "2      2021-06-01  com.vansteinengroentjes.apps.ddfive      AU   \n",
      "3      2021-06-01  com.vansteinengroentjes.apps.ddfive      BA   \n",
      "4      2021-06-01  com.vansteinengroentjes.apps.ddfive      BD   \n",
      "...           ...                                  ...     ...   \n",
      "18612  2021-12-31  com.vansteinengroentjes.apps.ddfive      US   \n",
      "18613  2021-12-31  com.vansteinengroentjes.apps.ddfive      UY   \n",
      "18614  2021-12-31  com.vansteinengroentjes.apps.ddfive      VE   \n",
      "18615  2021-12-31  com.vansteinengroentjes.apps.ddfive      VN   \n",
      "18616  2021-12-31  com.vansteinengroentjes.apps.ddfive      ZA   \n",
      "\n",
      "       Daily Average Rating  Total Average Rating  \n",
      "0                       NaN                  4.20  \n",
      "1                       NaN                  3.91  \n",
      "2                       NaN                  4.19  \n",
      "3                       NaN                  5.00  \n",
      "4                       NaN                  5.00  \n",
      "...                     ...                   ...  \n",
      "18612                   NaN                  4.04  \n",
      "18613                   NaN                  4.86  \n",
      "18614                   NaN                  4.00  \n",
      "18615                   NaN                  5.00  \n",
      "18616                   NaN                  4.32  \n",
      "\n",
      "[18617 rows x 5 columns]\n"
     ]
    }
   ],
   "source": [
    "# Get CSV files list from a folder\n",
    "path = 'data/ratings_country_data'\n",
    "csv_files = glob.glob(path + \"/*.csv\")\n",
    "\n",
    "# Read each CSV file into DataFrame\n",
    "# This creates a list of dataframes\n",
    "df_list = (pd.read_csv(file, encoding = 'utf-16') for file in csv_files)\n",
    "\n",
    "#encoding moest hier gedefinieerd worden met 'utf-16' anders kreeg ik een error, https://stackoverflow.com/questions/50342517/unicodedecodeerror-reading-a-csv-file\n",
    "\n",
    "# Concatenate all DataFrames\n",
    "df = pd.concat(df_list, ignore_index=True)\n",
    "\n",
    "#Bovenstaande code selecteert een map in path, en zet alle csv bestanden in een dataframe genaamd df, https://sparkbyexamples.com/pandas/pandas-read-multiple-csv-files/\n",
    "\n",
    "print(df)"
   ]
  },
  {
   "cell_type": "code",
   "execution_count": 5,
   "metadata": {},
   "outputs": [
    {
     "name": "stdout",
     "output_type": "stream",
     "text": [
      "             Date                         Package Name Country  \\\n",
      "0      2021-06-01  com.vansteinengroentjes.apps.ddfive      AR   \n",
      "1      2021-06-01  com.vansteinengroentjes.apps.ddfive      AT   \n",
      "2      2021-06-01  com.vansteinengroentjes.apps.ddfive      AU   \n",
      "3      2021-06-01  com.vansteinengroentjes.apps.ddfive      BA   \n",
      "4      2021-06-01  com.vansteinengroentjes.apps.ddfive      BD   \n",
      "...           ...                                  ...     ...   \n",
      "18612  2021-12-31  com.vansteinengroentjes.apps.ddfive      US   \n",
      "18613  2021-12-31  com.vansteinengroentjes.apps.ddfive      UY   \n",
      "18614  2021-12-31  com.vansteinengroentjes.apps.ddfive      VE   \n",
      "18615  2021-12-31  com.vansteinengroentjes.apps.ddfive      VN   \n",
      "18616  2021-12-31  com.vansteinengroentjes.apps.ddfive      ZA   \n",
      "\n",
      "       Daily Average Rating  Total Average Rating  \n",
      "0                       NaN                  4.20  \n",
      "1                       NaN                  3.91  \n",
      "2                       NaN                  4.19  \n",
      "3                       NaN                  5.00  \n",
      "4                       NaN                  5.00  \n",
      "...                     ...                   ...  \n",
      "18612                   NaN                  4.04  \n",
      "18613                   NaN                  4.86  \n",
      "18614                   NaN                  4.00  \n",
      "18615                   NaN                  5.00  \n",
      "18616                   NaN                  4.32  \n",
      "\n",
      "[18617 rows x 5 columns]\n"
     ]
    }
   ],
   "source": [
    "#Selecteert de rijen die van belang zijn (zie opdracht document)\n",
    "df = df[[\"Date\", \"Package Name\", \"Country\", \"Daily Average Rating\", \"Total Average Rating\"]]\n",
    "\n",
    "print(df)"
   ]
  },
  {
   "cell_type": "code",
   "execution_count": 6,
   "metadata": {},
   "outputs": [
    {
     "data": {
      "text/plain": [
       "Date                     0.000000\n",
       "Package Name             0.000000\n",
       "Country                  0.000000\n",
       "Daily Average Rating    99.597142\n",
       "Total Average Rating     0.000000\n",
       "dtype: float64"
      ]
     },
     "execution_count": 6,
     "metadata": {},
     "output_type": "execute_result"
    }
   ],
   "source": [
    "#Laat het percentage NaN values zien.\n",
    "df.isna().sum()/len(df)*100"
   ]
  },
  {
   "cell_type": "code",
   "execution_count": 7,
   "metadata": {},
   "outputs": [
    {
     "name": "stdout",
     "output_type": "stream",
     "text": [
      "             Date                         Package Name Country  \\\n",
      "76     2021-06-01  com.vansteinengroentjes.apps.ddfive      SK   \n",
      "169    2021-06-02  com.vansteinengroentjes.apps.ddfive      US   \n",
      "604    2021-06-07  com.vansteinengroentjes.apps.ddfive      US   \n",
      "691    2021-06-08  com.vansteinengroentjes.apps.ddfive      US   \n",
      "958    2021-06-12  com.vansteinengroentjes.apps.ddfive      AT   \n",
      "...           ...                                  ...     ...   \n",
      "16732  2021-12-10  com.vansteinengroentjes.apps.ddfive      FR   \n",
      "16977  2021-12-13  com.vansteinengroentjes.apps.ddfive      CA   \n",
      "17005  2021-12-13  com.vansteinengroentjes.apps.ddfive      IR   \n",
      "18352  2021-12-28  com.vansteinengroentjes.apps.ddfive      US   \n",
      "18560  2021-12-31  com.vansteinengroentjes.apps.ddfive      GB   \n",
      "\n",
      "       Daily Average Rating  Total Average Rating  \n",
      "76                      5.0                  4.25  \n",
      "169                     2.0                  4.04  \n",
      "604                     5.0                  4.04  \n",
      "691                     5.0                  4.04  \n",
      "958                     3.0                  3.83  \n",
      "...                     ...                   ...  \n",
      "16732                   1.0                  4.35  \n",
      "16977                   4.0                  4.12  \n",
      "17005                   5.0                  5.00  \n",
      "18352                   4.0                  4.03  \n",
      "18560                   5.0                  4.15  \n",
      "\n",
      "[75 rows x 5 columns]\n"
     ]
    }
   ],
   "source": [
    "#Dropt alle rijen waar NaN in voorkomt, https://pandas.pydata.org/docs/reference/api/pandas.DataFrame.dropna.html\n",
    "df = df.dropna()\n",
    "\n",
    "print(df)"
   ]
  },
  {
   "cell_type": "code",
   "execution_count": 8,
   "metadata": {},
   "outputs": [
    {
     "data": {
      "text/plain": [
       "Date                    0.0\n",
       "Package Name            0.0\n",
       "Country                 0.0\n",
       "Daily Average Rating    0.0\n",
       "Total Average Rating    0.0\n",
       "dtype: float64"
      ]
     },
     "execution_count": 8,
     "metadata": {},
     "output_type": "execute_result"
    }
   ],
   "source": [
    "#Laat zien dat er nu geen 1 rij NaN type heeft. \n",
    "df.isna().sum()/len(df)*100"
   ]
  },
  {
   "cell_type": "code",
   "execution_count": 9,
   "metadata": {},
   "outputs": [
    {
     "name": "stdout",
     "output_type": "stream",
     "text": [
      "            Date                         Package Name Country  \\\n",
      "76    2021-06-01  com.vansteinengroentjes.apps.ddfive      SK   \n",
      "169   2021-06-02  com.vansteinengroentjes.apps.ddfive      US   \n",
      "604   2021-06-07  com.vansteinengroentjes.apps.ddfive      US   \n",
      "691   2021-06-08  com.vansteinengroentjes.apps.ddfive      US   \n",
      "958   2021-06-12  com.vansteinengroentjes.apps.ddfive      AT   \n",
      "...          ...                                  ...     ...   \n",
      "16732 2021-12-10  com.vansteinengroentjes.apps.ddfive      FR   \n",
      "16977 2021-12-13  com.vansteinengroentjes.apps.ddfive      CA   \n",
      "17005 2021-12-13  com.vansteinengroentjes.apps.ddfive      IR   \n",
      "18352 2021-12-28  com.vansteinengroentjes.apps.ddfive      US   \n",
      "18560 2021-12-31  com.vansteinengroentjes.apps.ddfive      GB   \n",
      "\n",
      "       Daily Average Rating  Total Average Rating  \n",
      "76                      5.0                  4.25  \n",
      "169                     2.0                  4.04  \n",
      "604                     5.0                  4.04  \n",
      "691                     5.0                  4.04  \n",
      "958                     3.0                  3.83  \n",
      "...                     ...                   ...  \n",
      "16732                   1.0                  4.35  \n",
      "16977                   4.0                  4.12  \n",
      "17005                   5.0                  5.00  \n",
      "18352                   4.0                  4.03  \n",
      "18560                   5.0                  4.15  \n",
      "\n",
      "[75 rows x 5 columns]\n"
     ]
    }
   ],
   "source": [
    "#Vertaalt de data in de kolom 'date' naar leesbaar data voor de pandas dataframe  \n",
    "df['Date'] = pd.to_datetime(df['Date'])\n",
    "\n",
    "df_ratings = df\n",
    "\n",
    "print(df_ratings)"
   ]
  },
  {
   "cell_type": "code",
   "execution_count": 10,
   "metadata": {},
   "outputs": [
    {
     "name": "stdout",
     "output_type": "stream",
     "text": [
      "            Date  Daily Average Rating\n",
      "76    2021-06-01                   5.0\n",
      "169   2021-06-02                   2.0\n",
      "604   2021-06-07                   5.0\n",
      "691   2021-06-08                   5.0\n",
      "958   2021-06-12                   3.0\n",
      "...          ...                   ...\n",
      "16732 2021-12-10                   1.0\n",
      "16977 2021-12-13                   4.0\n",
      "17005 2021-12-13                   5.0\n",
      "18352 2021-12-28                   4.0\n",
      "18560 2021-12-31                   5.0\n",
      "\n",
      "[75 rows x 2 columns]\n"
     ]
    }
   ],
   "source": [
    "#selecteerd de kolommen 'date' en 'Daily Average Rating'\n",
    "df_date_rating = df_ratings[[\"Date\", \"Daily Average Rating\"]]\n",
    "\n",
    "#Maakt cds bestanden en zorgt ervoor dat 'Date' een kolom blijft in de dataframe\n",
    "df_date_rating_cds = ColumnDataSource(df_date_rating.groupby('Date')['Daily Average Rating'].sum().to_frame().reset_index())\n",
    "\n",
    "print(df_date_rating)"
   ]
  },
  {
   "cell_type": "code",
   "execution_count": 11,
   "metadata": {},
   "outputs": [
    {
     "name": "stdout",
     "output_type": "stream",
     "text": [
      "        Date  Daily Average Rating\n",
      "0 2021-06-30              4.033333\n",
      "1 2021-07-31              2.750000\n",
      "2 2021-08-31              3.400000\n",
      "3 2021-09-30              4.142857\n",
      "4 2021-10-31              3.500000\n",
      "5 2021-11-30              3.625000\n",
      "6 2021-12-31              3.812500\n"
     ]
    }
   ],
   "source": [
    "#Geeft de gemiddelde average rating per maand\n",
    "df_date_avg_rating_monthly = df_date_rating.groupby(pd.Grouper(key='Date', freq='M')).mean().reset_index()  \n",
    "\n",
    "print(df_date_avg_rating_monthly)"
   ]
  },
  {
   "cell_type": "code",
   "execution_count": 31,
   "metadata": {},
   "outputs": [
    {
     "data": {
      "text/html": [
       "\n",
       "  <div id=\"f4c3e6ee-0fe0-4a5e-981f-6c2bad174469\" data-root-id=\"p4432\" style=\"display: contents;\"></div>\n"
      ]
     },
     "metadata": {},
     "output_type": "display_data"
    },
    {
     "data": {
      "application/javascript": "(function(root) {\n  function embed_document(root) {\n  const docs_json = {\"65b52b5b-fec6-42df-89a1-4f794769b235\":{\"version\":\"3.0.3\",\"title\":\"Bokeh Application\",\"defs\":[],\"roots\":[{\"type\":\"object\",\"name\":\"Figure\",\"id\":\"p4432\",\"attributes\":{\"width\":800,\"height\":400,\"x_range\":{\"type\":\"object\",\"name\":\"DataRange1d\",\"id\":\"p4434\"},\"y_range\":{\"type\":\"object\",\"name\":\"DataRange1d\",\"id\":\"p4433\"},\"x_scale\":{\"type\":\"object\",\"name\":\"LinearScale\",\"id\":\"p4446\"},\"y_scale\":{\"type\":\"object\",\"name\":\"LinearScale\",\"id\":\"p4448\"},\"title\":{\"type\":\"object\",\"name\":\"Title\",\"id\":\"p4435\",\"attributes\":{\"text\":\"Average rating per month\"}},\"renderers\":[{\"type\":\"object\",\"name\":\"GlyphRenderer\",\"id\":\"p4525\",\"attributes\":{\"data_source\":{\"type\":\"object\",\"name\":\"ColumnDataSource\",\"id\":\"p4515\",\"attributes\":{\"selected\":{\"type\":\"object\",\"name\":\"Selection\",\"id\":\"p4516\",\"attributes\":{\"indices\":[],\"line_indices\":[]}},\"selection_policy\":{\"type\":\"object\",\"name\":\"UnionRenderers\",\"id\":\"p4517\"},\"data\":{\"type\":\"map\",\"entries\":[[\"index\",{\"type\":\"ndarray\",\"array\":{\"type\":\"bytes\",\"data\":\"AAAAAAEAAAACAAAAAwAAAAQAAAAFAAAABgAAAA==\"},\"shape\":[7],\"dtype\":\"int32\",\"order\":\"little\"}],[\"Date\",{\"type\":\"ndarray\",\"array\":{\"type\":\"bytes\",\"data\":\"AAAAcqOld0IAAEDEna93QgAAgBaYuXdCAAAAA0DDd0IAAEBVOs13QgAAwEHi1ndCAAAAlNzgd0I=\"},\"shape\":[7],\"dtype\":\"float64\",\"order\":\"little\"}],[\"Daily Average Rating\",{\"type\":\"ndarray\",\"array\":{\"type\":\"bytes\",\"data\":\"IiIiIiIiEEAAAAAAAAAGQDMzMzMzMwtAJUmSJEmSEEAAAAAAAAAMQAAAAAAAAA1AAAAAAACADkA=\"},\"shape\":[7],\"dtype\":\"float64\",\"order\":\"little\"}]]}}},\"view\":{\"type\":\"object\",\"name\":\"CDSView\",\"id\":\"p4526\",\"attributes\":{\"filter\":{\"type\":\"object\",\"name\":\"AllIndices\",\"id\":\"p4527\"}}},\"glyph\":{\"type\":\"object\",\"name\":\"VBar\",\"id\":\"p4522\",\"attributes\":{\"x\":{\"type\":\"field\",\"field\":\"Date\"},\"width\":{\"type\":\"value\",\"value\":2419200000},\"top\":{\"type\":\"field\",\"field\":\"Daily Average Rating\"},\"line_color\":{\"type\":\"value\",\"value\":\"#1f77b4\"},\"fill_color\":{\"type\":\"value\",\"value\":\"#1f77b4\"}}},\"nonselection_glyph\":{\"type\":\"object\",\"name\":\"VBar\",\"id\":\"p4523\",\"attributes\":{\"x\":{\"type\":\"field\",\"field\":\"Date\"},\"width\":{\"type\":\"value\",\"value\":2419200000},\"top\":{\"type\":\"field\",\"field\":\"Daily Average Rating\"},\"line_color\":{\"type\":\"value\",\"value\":\"#1f77b4\"},\"line_alpha\":{\"type\":\"value\",\"value\":0.1},\"fill_color\":{\"type\":\"value\",\"value\":\"#1f77b4\"},\"fill_alpha\":{\"type\":\"value\",\"value\":0.1},\"hatch_alpha\":{\"type\":\"value\",\"value\":0.1}}},\"muted_glyph\":{\"type\":\"object\",\"name\":\"VBar\",\"id\":\"p4524\",\"attributes\":{\"x\":{\"type\":\"field\",\"field\":\"Date\"},\"width\":{\"type\":\"value\",\"value\":2419200000},\"top\":{\"type\":\"field\",\"field\":\"Daily Average Rating\"},\"line_color\":{\"type\":\"value\",\"value\":\"#1f77b4\"},\"line_alpha\":{\"type\":\"value\",\"value\":0.2},\"fill_color\":{\"type\":\"value\",\"value\":\"#1f77b4\"},\"fill_alpha\":{\"type\":\"value\",\"value\":0.2},\"hatch_alpha\":{\"type\":\"value\",\"value\":0.2}}}}}],\"toolbar\":{\"type\":\"object\",\"name\":\"Toolbar\",\"id\":\"p4441\",\"attributes\":{\"tools\":[{\"type\":\"object\",\"name\":\"PanTool\",\"id\":\"p4500\"},{\"type\":\"object\",\"name\":\"WheelZoomTool\",\"id\":\"p4501\"},{\"type\":\"object\",\"name\":\"BoxZoomTool\",\"id\":\"p4502\",\"attributes\":{\"overlay\":{\"type\":\"object\",\"name\":\"BoxAnnotation\",\"id\":\"p4503\",\"attributes\":{\"syncable\":false,\"level\":\"overlay\",\"visible\":false,\"left_units\":\"canvas\",\"right_units\":\"canvas\",\"bottom_units\":\"canvas\",\"top_units\":\"canvas\",\"line_color\":\"black\",\"line_alpha\":1.0,\"line_width\":2,\"line_dash\":[4,4],\"fill_color\":\"lightgrey\",\"fill_alpha\":0.5}}}},{\"type\":\"object\",\"name\":\"SaveTool\",\"id\":\"p4504\"},{\"type\":\"object\",\"name\":\"ResetTool\",\"id\":\"p4505\"},{\"type\":\"object\",\"name\":\"HelpTool\",\"id\":\"p4506\"},{\"type\":\"object\",\"name\":\"HoverTool\",\"id\":\"p4518\",\"attributes\":{\"renderers\":\"auto\",\"tooltips\":[[\"Rating\",\"@{Daily Average Rating}\"]]}}]}},\"left\":[{\"type\":\"object\",\"name\":\"LinearAxis\",\"id\":\"p4493\",\"attributes\":{\"ticker\":{\"type\":\"object\",\"name\":\"BasicTicker\",\"id\":\"p4494\",\"attributes\":{\"mantissas\":[1,2,5]}},\"formatter\":{\"type\":\"object\",\"name\":\"BasicTickFormatter\",\"id\":\"p4496\"},\"axis_label\":\"Rating\",\"major_label_policy\":{\"type\":\"object\",\"name\":\"AllLabels\",\"id\":\"p4495\"}}}],\"below\":[{\"type\":\"object\",\"name\":\"DatetimeAxis\",\"id\":\"p4450\",\"attributes\":{\"ticker\":{\"type\":\"object\",\"name\":\"DatetimeTicker\",\"id\":\"p4451\",\"attributes\":{\"num_minor_ticks\":5,\"tickers\":[{\"type\":\"object\",\"name\":\"AdaptiveTicker\",\"id\":\"p4452\",\"attributes\":{\"num_minor_ticks\":0,\"mantissas\":[1,2,5],\"max_interval\":500.0}},{\"type\":\"object\",\"name\":\"AdaptiveTicker\",\"id\":\"p4453\",\"attributes\":{\"num_minor_ticks\":0,\"base\":60,\"mantissas\":[1,2,5,10,15,20,30],\"min_interval\":1000.0,\"max_interval\":1800000.0}},{\"type\":\"object\",\"name\":\"AdaptiveTicker\",\"id\":\"p4454\",\"attributes\":{\"num_minor_ticks\":0,\"base\":24,\"mantissas\":[1,2,4,6,8,12],\"min_interval\":3600000.0,\"max_interval\":43200000.0}},{\"type\":\"object\",\"name\":\"DaysTicker\",\"id\":\"p4455\",\"attributes\":{\"days\":[1,2,3,4,5,6,7,8,9,10,11,12,13,14,15,16,17,18,19,20,21,22,23,24,25,26,27,28,29,30,31]}},{\"type\":\"object\",\"name\":\"DaysTicker\",\"id\":\"p4456\",\"attributes\":{\"days\":[1,4,7,10,13,16,19,22,25,28]}},{\"type\":\"object\",\"name\":\"DaysTicker\",\"id\":\"p4457\",\"attributes\":{\"days\":[1,8,15,22]}},{\"type\":\"object\",\"name\":\"DaysTicker\",\"id\":\"p4458\",\"attributes\":{\"days\":[1,15]}},{\"type\":\"object\",\"name\":\"MonthsTicker\",\"id\":\"p4459\",\"attributes\":{\"months\":[0,1,2,3,4,5,6,7,8,9,10,11]}},{\"type\":\"object\",\"name\":\"MonthsTicker\",\"id\":\"p4460\",\"attributes\":{\"months\":[0,2,4,6,8,10]}},{\"type\":\"object\",\"name\":\"MonthsTicker\",\"id\":\"p4461\",\"attributes\":{\"months\":[0,4,8]}},{\"type\":\"object\",\"name\":\"MonthsTicker\",\"id\":\"p4462\",\"attributes\":{\"months\":[0,6]}},{\"type\":\"object\",\"name\":\"YearsTicker\",\"id\":\"p4463\"}]}},\"formatter\":{\"type\":\"object\",\"name\":\"DatetimeTickFormatter\",\"id\":\"p4465\"},\"axis_label\":\"Date\",\"major_label_policy\":{\"type\":\"object\",\"name\":\"AllLabels\",\"id\":\"p4464\"}}}],\"center\":[{\"type\":\"object\",\"name\":\"Grid\",\"id\":\"p4492\",\"attributes\":{\"axis\":{\"id\":\"p4450\"}}},{\"type\":\"object\",\"name\":\"Grid\",\"id\":\"p4499\",\"attributes\":{\"dimension\":1,\"axis\":{\"id\":\"p4493\"}}}]}}]}};\n  const render_items = [{\"docid\":\"65b52b5b-fec6-42df-89a1-4f794769b235\",\"roots\":{\"p4432\":\"f4c3e6ee-0fe0-4a5e-981f-6c2bad174469\"},\"root_ids\":[\"p4432\"]}];\n  root.Bokeh.embed.embed_items_notebook(docs_json, render_items);\n  }\n  if (root.Bokeh !== undefined) {\n    embed_document(root);\n  } else {\n    let attempts = 0;\n    const timer = setInterval(function(root) {\n      if (root.Bokeh !== undefined) {\n        clearInterval(timer);\n        embed_document(root);\n      } else {\n        attempts++;\n        if (attempts > 100) {\n          clearInterval(timer);\n          console.log(\"Bokeh: ERROR: Unable to run BokehJS code because BokehJS library is missing\");\n        }\n      }\n    }, 10, root)\n  }\n})(window);",
      "application/vnd.bokehjs_exec.v0+json": ""
     },
     "metadata": {
      "application/vnd.bokehjs_exec.v0+json": {
       "id": "p4432"
      }
     },
     "output_type": "display_data"
    }
   ],
   "source": [
    "#Zet het figuur op\n",
    "fig = figure(title = 'Average rating per month', \n",
    "             x_axis_type='datetime', \n",
    "             height=400, \n",
    "             width=800, \n",
    "             x_axis_label='Date', \n",
    "             y_axis_label='Rating')\n",
    "\n",
    "source = ColumnDataSource(df_date_avg_rating_monthly)\n",
    "\n",
    "# Add the hover tool to the figure\n",
    "hover = HoverTool(tooltips=[('Rating', '@{Daily Average Rating}')])\n",
    "\n",
    "fig.vbar(x='Date', \n",
    "         top='Daily Average Rating', \n",
    "         source=source, width=86400000*28)\n",
    "\n",
    "# Add the hover tool to the figure\n",
    "fig.add_tools(hover)\n",
    "\n",
    "show(fig)\n",
    "\n",
    "#x-as klopt nog niet, hij begint 1 maand later dan in de dataframe!"
   ]
  }
 ],
 "metadata": {
  "kernelspec": {
   "display_name": "Python 3",
   "language": "python",
   "name": "python3"
  },
  "language_info": {
   "codemirror_mode": {
    "name": "ipython",
    "version": 3
   },
   "file_extension": ".py",
   "mimetype": "text/x-python",
   "name": "python",
   "nbconvert_exporter": "python",
   "pygments_lexer": "ipython3",
   "version": "3.9.13"
  },
  "orig_nbformat": 4
 },
 "nbformat": 4,
 "nbformat_minor": 2
}
