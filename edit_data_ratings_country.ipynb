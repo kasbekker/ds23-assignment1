{
 "cells": [
  {
   "cell_type": "code",
   "execution_count": 2,
   "metadata": {},
   "outputs": [],
   "source": [
    "#data handling\n",
    "import pandas as pd\n",
    "import numpy as np\n",
    "import glob, os\n",
    "\n",
    "# Bokeh libraries\n",
    "from bokeh.io import output_file, output_notebook\n",
    "from bokeh.plotting import figure, show\n",
    "from bokeh.models import ColumnDataSource\n",
    "from bokeh.layouts import row, column, gridplot\n",
    "from bokeh.io import output_file\n",
    "from bokeh.plotting import figure, show\n",
    "from bokeh.models import HoverTool\n",
    "from bokeh.models import DatetimeTickFormatter\n",
    "from bokeh.models import DataRange1d"
   ]
  },
  {
   "cell_type": "code",
   "execution_count": 3,
   "metadata": {},
   "outputs": [
    {
     "name": "stdout",
     "output_type": "stream",
     "text": [
      "             Date                         Package Name Country  \\\n",
      "0      2021-06-01  com.vansteinengroentjes.apps.ddfive      AR   \n",
      "1      2021-06-01  com.vansteinengroentjes.apps.ddfive      AT   \n",
      "2      2021-06-01  com.vansteinengroentjes.apps.ddfive      AU   \n",
      "3      2021-06-01  com.vansteinengroentjes.apps.ddfive      BA   \n",
      "4      2021-06-01  com.vansteinengroentjes.apps.ddfive      BD   \n",
      "...           ...                                  ...     ...   \n",
      "18612  2021-12-31  com.vansteinengroentjes.apps.ddfive      US   \n",
      "18613  2021-12-31  com.vansteinengroentjes.apps.ddfive      UY   \n",
      "18614  2021-12-31  com.vansteinengroentjes.apps.ddfive      VE   \n",
      "18615  2021-12-31  com.vansteinengroentjes.apps.ddfive      VN   \n",
      "18616  2021-12-31  com.vansteinengroentjes.apps.ddfive      ZA   \n",
      "\n",
      "       Daily Average Rating  Total Average Rating  \n",
      "0                       NaN                  4.20  \n",
      "1                       NaN                  3.91  \n",
      "2                       NaN                  4.19  \n",
      "3                       NaN                  5.00  \n",
      "4                       NaN                  5.00  \n",
      "...                     ...                   ...  \n",
      "18612                   NaN                  4.04  \n",
      "18613                   NaN                  4.86  \n",
      "18614                   NaN                  4.00  \n",
      "18615                   NaN                  5.00  \n",
      "18616                   NaN                  4.32  \n",
      "\n",
      "[18617 rows x 5 columns]\n"
     ]
    }
   ],
   "source": [
    "# Get CSV files list from a folder\n",
    "path = 'data/ratings_country_data'\n",
    "csv_files = glob.glob(path + \"/*.csv\")\n",
    "\n",
    "# Read each CSV file into DataFrame\n",
    "# This creates a list of dataframes\n",
    "df_list = (pd.read_csv(file, encoding = 'utf-16') for file in csv_files)\n",
    "\n",
    "#encoding moest hier gedefinieerd worden met 'utf-16' anders kreeg ik een error, https://stackoverflow.com/questions/50342517/unicodedecodeerror-reading-a-csv-file\n",
    "\n",
    "# Concatenate all DataFrames\n",
    "df = pd.concat(df_list, ignore_index=True)\n",
    "\n",
    "#Bovenstaande code selecteert een map in path, en zet alle csv bestanden in een dataframe genaamd df, https://sparkbyexamples.com/pandas/pandas-read-multiple-csv-files/\n",
    "\n",
    "print(df)"
   ]
  },
  {
   "cell_type": "code",
   "execution_count": 4,
   "metadata": {},
   "outputs": [
    {
     "name": "stdout",
     "output_type": "stream",
     "text": [
      "             Date                         Package Name Country  \\\n",
      "0      2021-06-01  com.vansteinengroentjes.apps.ddfive      AR   \n",
      "1      2021-06-01  com.vansteinengroentjes.apps.ddfive      AT   \n",
      "2      2021-06-01  com.vansteinengroentjes.apps.ddfive      AU   \n",
      "3      2021-06-01  com.vansteinengroentjes.apps.ddfive      BA   \n",
      "4      2021-06-01  com.vansteinengroentjes.apps.ddfive      BD   \n",
      "...           ...                                  ...     ...   \n",
      "18612  2021-12-31  com.vansteinengroentjes.apps.ddfive      US   \n",
      "18613  2021-12-31  com.vansteinengroentjes.apps.ddfive      UY   \n",
      "18614  2021-12-31  com.vansteinengroentjes.apps.ddfive      VE   \n",
      "18615  2021-12-31  com.vansteinengroentjes.apps.ddfive      VN   \n",
      "18616  2021-12-31  com.vansteinengroentjes.apps.ddfive      ZA   \n",
      "\n",
      "       Daily Average Rating  Total Average Rating  \n",
      "0                       NaN                  4.20  \n",
      "1                       NaN                  3.91  \n",
      "2                       NaN                  4.19  \n",
      "3                       NaN                  5.00  \n",
      "4                       NaN                  5.00  \n",
      "...                     ...                   ...  \n",
      "18612                   NaN                  4.04  \n",
      "18613                   NaN                  4.86  \n",
      "18614                   NaN                  4.00  \n",
      "18615                   NaN                  5.00  \n",
      "18616                   NaN                  4.32  \n",
      "\n",
      "[18617 rows x 5 columns]\n"
     ]
    }
   ],
   "source": [
    "#Selecteert de rijen die van belang zijn (zie opdracht document)\n",
    "df = df[[\"Date\", \"Package Name\", \"Country\", \"Daily Average Rating\", \"Total Average Rating\"]]\n",
    "\n",
    "print(df)"
   ]
  },
  {
   "cell_type": "code",
   "execution_count": 5,
   "metadata": {},
   "outputs": [
    {
     "data": {
      "text/plain": [
       "Date                     0.000000\n",
       "Package Name             0.000000\n",
       "Country                  0.000000\n",
       "Daily Average Rating    99.597142\n",
       "Total Average Rating     0.000000\n",
       "dtype: float64"
      ]
     },
     "execution_count": 5,
     "metadata": {},
     "output_type": "execute_result"
    }
   ],
   "source": [
    "#Laat het percentage NaN values zien.\n",
    "df.isna().sum()/len(df)*100"
   ]
  },
  {
   "cell_type": "code",
   "execution_count": 6,
   "metadata": {},
   "outputs": [
    {
     "name": "stdout",
     "output_type": "stream",
     "text": [
      "             Date                         Package Name Country  \\\n",
      "76     2021-06-01  com.vansteinengroentjes.apps.ddfive      SK   \n",
      "169    2021-06-02  com.vansteinengroentjes.apps.ddfive      US   \n",
      "604    2021-06-07  com.vansteinengroentjes.apps.ddfive      US   \n",
      "691    2021-06-08  com.vansteinengroentjes.apps.ddfive      US   \n",
      "958    2021-06-12  com.vansteinengroentjes.apps.ddfive      AT   \n",
      "...           ...                                  ...     ...   \n",
      "16732  2021-12-10  com.vansteinengroentjes.apps.ddfive      FR   \n",
      "16977  2021-12-13  com.vansteinengroentjes.apps.ddfive      CA   \n",
      "17005  2021-12-13  com.vansteinengroentjes.apps.ddfive      IR   \n",
      "18352  2021-12-28  com.vansteinengroentjes.apps.ddfive      US   \n",
      "18560  2021-12-31  com.vansteinengroentjes.apps.ddfive      GB   \n",
      "\n",
      "       Daily Average Rating  Total Average Rating  \n",
      "76                      5.0                  4.25  \n",
      "169                     2.0                  4.04  \n",
      "604                     5.0                  4.04  \n",
      "691                     5.0                  4.04  \n",
      "958                     3.0                  3.83  \n",
      "...                     ...                   ...  \n",
      "16732                   1.0                  4.35  \n",
      "16977                   4.0                  4.12  \n",
      "17005                   5.0                  5.00  \n",
      "18352                   4.0                  4.03  \n",
      "18560                   5.0                  4.15  \n",
      "\n",
      "[75 rows x 5 columns]\n"
     ]
    }
   ],
   "source": [
    "#Dropt alle rijen waar NaN in voorkomt, https://pandas.pydata.org/docs/reference/api/pandas.DataFrame.dropna.html\n",
    "df = df.dropna()\n",
    "\n",
    "print(df)"
   ]
  },
  {
   "cell_type": "code",
   "execution_count": 7,
   "metadata": {},
   "outputs": [
    {
     "data": {
      "text/plain": [
       "Date                    0.0\n",
       "Package Name            0.0\n",
       "Country                 0.0\n",
       "Daily Average Rating    0.0\n",
       "Total Average Rating    0.0\n",
       "dtype: float64"
      ]
     },
     "execution_count": 7,
     "metadata": {},
     "output_type": "execute_result"
    }
   ],
   "source": [
    "#Laat zien dat er nu geen 1 rij NaN type heeft. \n",
    "df.isna().sum()/len(df)*100"
   ]
  },
  {
   "cell_type": "code",
   "execution_count": 8,
   "metadata": {},
   "outputs": [
    {
     "name": "stdout",
     "output_type": "stream",
     "text": [
      "            Date                         Package Name Country  \\\n",
      "76    2021-06-01  com.vansteinengroentjes.apps.ddfive      SK   \n",
      "169   2021-06-02  com.vansteinengroentjes.apps.ddfive      US   \n",
      "604   2021-06-07  com.vansteinengroentjes.apps.ddfive      US   \n",
      "691   2021-06-08  com.vansteinengroentjes.apps.ddfive      US   \n",
      "958   2021-06-12  com.vansteinengroentjes.apps.ddfive      AT   \n",
      "...          ...                                  ...     ...   \n",
      "16732 2021-12-10  com.vansteinengroentjes.apps.ddfive      FR   \n",
      "16977 2021-12-13  com.vansteinengroentjes.apps.ddfive      CA   \n",
      "17005 2021-12-13  com.vansteinengroentjes.apps.ddfive      IR   \n",
      "18352 2021-12-28  com.vansteinengroentjes.apps.ddfive      US   \n",
      "18560 2021-12-31  com.vansteinengroentjes.apps.ddfive      GB   \n",
      "\n",
      "       Daily Average Rating  Total Average Rating  \n",
      "76                      5.0                  4.25  \n",
      "169                     2.0                  4.04  \n",
      "604                     5.0                  4.04  \n",
      "691                     5.0                  4.04  \n",
      "958                     3.0                  3.83  \n",
      "...                     ...                   ...  \n",
      "16732                   1.0                  4.35  \n",
      "16977                   4.0                  4.12  \n",
      "17005                   5.0                  5.00  \n",
      "18352                   4.0                  4.03  \n",
      "18560                   5.0                  4.15  \n",
      "\n",
      "[75 rows x 5 columns]\n"
     ]
    }
   ],
   "source": [
    "#Vertaalt de data in de kolom 'date' naar leesbaar data voor de pandas dataframe  \n",
    "df['Date'] = pd.to_datetime(df['Date'])\n",
    "\n",
    "df_ratings = df\n",
    "\n",
    "print(df_ratings)"
   ]
  },
  {
   "cell_type": "code",
   "execution_count": 9,
   "metadata": {},
   "outputs": [
    {
     "name": "stdout",
     "output_type": "stream",
     "text": [
      "            Date  Daily Average Rating\n",
      "76    2021-06-01                   5.0\n",
      "169   2021-06-02                   2.0\n",
      "604   2021-06-07                   5.0\n",
      "691   2021-06-08                   5.0\n",
      "958   2021-06-12                   3.0\n",
      "...          ...                   ...\n",
      "16732 2021-12-10                   1.0\n",
      "16977 2021-12-13                   4.0\n",
      "17005 2021-12-13                   5.0\n",
      "18352 2021-12-28                   4.0\n",
      "18560 2021-12-31                   5.0\n",
      "\n",
      "[75 rows x 2 columns]\n"
     ]
    }
   ],
   "source": [
    "#selecteerd de kolommen 'date' en 'Daily Average Rating'\n",
    "df_date_rating = df_ratings[[\"Date\", \"Daily Average Rating\"]]\n",
    "\n",
    "#Maakt cds bestanden en zorgt ervoor dat 'Date' een kolom blijft in de dataframe\n",
    "df_date_rating_cds = ColumnDataSource(df_date_rating.groupby('Date')['Daily Average Rating'].sum().to_frame().reset_index())\n",
    "\n",
    "print(df_date_rating)"
   ]
  },
  {
   "cell_type": "code",
   "execution_count": 10,
   "metadata": {},
   "outputs": [
    {
     "name": "stdout",
     "output_type": "stream",
     "text": [
      "        Date  Daily Average Rating\n",
      "0 2021-06-30              4.033333\n",
      "1 2021-07-31              2.750000\n",
      "2 2021-08-31              3.400000\n",
      "3 2021-09-30              4.142857\n",
      "4 2021-10-31              3.500000\n",
      "5 2021-11-30              3.625000\n",
      "6 2021-12-31              3.812500\n"
     ]
    }
   ],
   "source": [
    "#Geeft de gemiddelde average rating per maand\n",
    "df_date_avg_rating_monthly = df_date_rating.groupby(pd.Grouper(key='Date', freq='M')).mean().reset_index()  \n",
    "\n",
    "print(df_date_avg_rating_monthly)"
   ]
  },
  {
   "cell_type": "code",
   "execution_count": 11,
   "metadata": {},
   "outputs": [],
   "source": [
    "#Zet het figuur op\n",
    "fig = figure(title = 'Average rating per month', \n",
    "             x_axis_type='datetime', \n",
    "             height=400, \n",
    "             width=800, \n",
    "             x_axis_label='Date', \n",
    "             y_axis_label='Rating')\n",
    "\n",
    "source = ColumnDataSource(df_date_avg_rating_monthly)\n",
    "\n",
    "# Add the hover tool to the figure\n",
    "hover = HoverTool(tooltips=[('Rating', '@{Daily Average Rating}')])\n",
    "\n",
    "fig.vbar(x='Date', \n",
    "         top='Daily Average Rating', \n",
    "         source=source, width=86400000*28)\n",
    "\n",
    "# Add the hover tool to the figure\n",
    "fig.add_tools(hover)\n"
   ]
  }
 ],
 "metadata": {
  "kernelspec": {
   "display_name": "Python 3",
   "language": "python",
   "name": "python3"
  },
  "language_info": {
   "codemirror_mode": {
    "name": "ipython",
    "version": 3
   },
   "file_extension": ".py",
   "mimetype": "text/x-python",
   "name": "python",
   "nbconvert_exporter": "python",
   "pygments_lexer": "ipython3",
   "version": "3.9.13"
  },
  "orig_nbformat": 4
 },
 "nbformat": 4,
 "nbformat_minor": 2
}
